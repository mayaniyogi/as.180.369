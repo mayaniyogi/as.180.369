{
 "cells": [
  {
   "cell_type": "markdown",
   "id": "9bc6b1bd-b2c2-45f2-b16a-e3cf90c4fe99",
   "metadata": {},
   "source": [
    "---\n",
    "slideshow:\n",
    "  slide: true\n",
    "title: \"Knowledge Spillovers in Innovation Economics\"\n",
    "subtitle: \"Understanding University Endowment Changes and Patent Concentration Correlations\"\n",
    "author: \"Maya Niyogi\"\n",
    "date: \"December 2024\"\n",
    "---\n",
    "\n",
    "# Final Presentation\n",
    "\n",
    "Welcome to my presentation on **[Your Topic]**.\n",
    "\n",
    "---\n",
    "\n",
    "## Introduction\n",
    "\n",
    "### Background\n",
    "\n",
    "- Why is this topic important? <!-- .element: class=\"fragment\" -->\n",
    "- Previous studies and key insights <!-- .element: class=\"fragment\" -->\n",
    "\n",
    "### Objectives\n",
    "\n",
    "1. Objective 1 <!-- .element: class=\"fragment\" -->\n",
    "2. Objective 2 <!-- .element: class=\"fragment\" -->\n",
    "3. Objective 3 <!-- .element: class=\"fragment\" -->\n",
    "\n",
    "---\n",
    "\n",
    "## Methodology\n",
    "\n",
    "### Study Design\n",
    "\n",
    "- Description of your methods:\n",
    "  - Qualitative or quantitative? <!-- .element: class=\"fragment\" -->\n",
    "  - Data collection techniques <!-- .element: class=\"fragment\" -->\n",
    "\n",
    "### Analysis Framework\n",
    "\n",
    "```python\n",
    "# Example of code used in analysis\n",
    "import pandas as pd\n",
    "\n",
    "data = pd.read_csv(\"data.csv\")\n",
    "print(data.describe())\n"
   ]
  },
  {
   "cell_type": "code",
   "execution_count": null,
   "id": "0331b2c1-4be2-4f80-a1e8-d45e8dc20527",
   "metadata": {},
   "outputs": [],
   "source": []
  }
 ],
 "metadata": {
  "kernelspec": {
   "display_name": "econark",
   "language": "python",
   "name": "econark"
  },
  "language_info": {
   "codemirror_mode": {
    "name": "ipython",
    "version": 3
   },
   "file_extension": ".py",
   "mimetype": "text/x-python",
   "name": "python",
   "nbconvert_exporter": "python",
   "pygments_lexer": "ipython3",
   "version": "3.11.10"
  }
 },
 "nbformat": 4,
 "nbformat_minor": 5
}
