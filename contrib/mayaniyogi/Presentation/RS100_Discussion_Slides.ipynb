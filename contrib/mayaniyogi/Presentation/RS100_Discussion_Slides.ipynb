{
 "cells": [
  {
   "cell_type": "markdown",
   "id": "547110e7",
   "metadata": {
    "editable": true,
    "slideshow": {
     "controls": false,
     "height": "100%",
     "progress": true,
     "scroll": true,
     "slide_type": "slide",
     "width": "100%"
    },
    "tags": []
   },
   "source": [
    "<h1 style=\"text-align: center;\"><a href=\"https://github.com/mayaniyogi/as.180.369\">Knowledge Spillovers in Innovation Economics: Understanding University Endowment Changes and Patent Concentration Correlations</h1>\n",
    "\n",
    "<h3 style=\"text-align: center;\">Maya Niyogi</h3>\n",
    "\n",
    "&nbsp;\n",
    "\n",
    "<h4 style=\"text-align: center;\"><a href=\"https://github.com/llorracc/as.180.369\">AS.180.369</a> Tools for Writing a Research Paper in Economics (Fall 2024)</h4>\n",
    "<h5 style=\"text-align: center;\">Johns Hopkins University</h5>\n",
    "\n",
    "<h6 style=\"text-align: center;\"><a\n",
    "href=\"https://github.com/dedwar65/beyond-the-streetlight\"></a></h6>\n",
    "\n",
    "<h5 style=\"text-align: center;\"><strong></strong></h5>\n",
    "<h5 style=\"text-align: center;\"></h5>\n",
    "&nbsp;\n",
    "<h4 style=\"text-align: center;\"></h4> <h4 style=\"text-align: center;\"></h4>\n",
    "<h6 style=\"text-align: center;\"><a\n",
    "href=\"https://github.com/dedwar65/RS100_Discussion\"></a></h6>"
   ]
  },
  {
   "cell_type": "markdown",
   "id": "3c8ab8e3-455e-4b45-8d53-31757bd27ba8",
   "metadata": {
    "editable": true,
    "slideshow": {
     "slide_type": ""
    },
    "tags": []
   },
   "source": [
    "<h3 style=\"text-align: center;\">Motivation</h3>"
   ]
  },
  {
   "cell_type": "markdown",
   "id": "76337535-faca-4462-8a6c-05c100240515",
   "metadata": {},
   "source": [
    "- Urban economics: agglomeration forces motivate city creation\n",
    "    - consequence of agglomeration forces: konwledge spillovers\n",
    "    - result= innovation economies"
   ]
  },
  {
   "cell_type": "markdown",
   "id": "db27d7c0-bdb2-45be-a1bb-f2acbce7a4ce",
   "metadata": {
    "slideshow": {
     "slide_type": "fragment"
    },
    "tags": []
   },
   "source": [
    "- Innate understanding that academic research and industry research/activity go hand-in-hand"
   ]
  },
  {
   "cell_type": "markdown",
   "id": "983604fd",
   "metadata": {
    "editable": true,
    "slideshow": {
     "slide_type": "slide"
    },
    "tags": []
   },
   "source": [
    "<h3 style=\"text-align: center;\">What is a \"Knowledge Spillover\"?</h3>"
   ]
  },
  {
   "cell_type": "markdown",
   "id": "7ea11e36",
   "metadata": {
    "editable": true,
    "slideshow": {
     "slide_type": "fragment"
    },
    "tags": []
   },
   "source": [
    "- knowledge spillover: \"an exchange of ideas among individuals\"$^1$\n",
    "    - 1: Carlino, Gerald A. (2001) Business Review Knowledge Spillovers: Cities' Role in the New Economy. Archived 2014-01-09 at the Wayback Machine Q4 2001.\n",
    "    - Instrument variable: university endowment change levels"
   ]
  },
  {
   "cell_type": "markdown",
   "id": "e4559fae-6af1-4277-a344-ccaa7437caf5",
   "metadata": {},
   "source": [
    "- Side effect of knowledge spillovers: innovation/increased output or idea generation\n",
    "    - Paper of interest: <a href=\"https://www.sciencedirect.com/science/article/pii/S0094119001922302\">The Determinants of Agglomeration</a> by Dr. Stuart Rosenthal\n",
    "    - Instrument variable: patent filing concentrations"
   ]
  },
  {
   "cell_type": "markdown",
   "id": "568d89c4-6f09-40d7-b350-c14cf1a03c8b",
   "metadata": {},
   "source": [
    "<h3 style=\"text-align: center;\">Data Sourcing</h3>"
   ]
  },
  {
   "cell_type": "markdown",
   "id": "a7850281",
   "metadata": {
    "editable": true,
    "slideshow": {
     "slide_type": "fragment"
    },
    "tags": []
   },
   "source": [
    "- United States Patent and Trademark Office (USPTO) Patent View API for patent concentration data"
   ]
  },
  {
   "cell_type": "markdown",
   "id": "e249b606-f972-42e4-a3af-9689f7e25bdb",
   "metadata": {},
   "source": [
    "- United States Department of Education College Scorecard API for university endowment spending levels"
   ]
  },
  {
   "cell_type": "markdown",
   "id": "e649ad1b-d4d9-453d-b002-054532d9242d",
   "metadata": {
    "slideshow": {
     "slide_type": "fragment"
    },
    "tags": []
   },
   "source": [
    "<h3 style=\"text-align: center;\">Data Processing </h3>"
   ]
  },
  {
   "cell_type": "markdown",
   "id": "8e1162e5-fecd-43d9-824b-c6411795c979",
   "metadata": {},
   "source": [
    "- Used data from 2021 due to API processing constraints and data availability"
   ]
  },
  {
   "cell_type": "markdown",
   "id": "7423dfd3-fe3a-4d56-bd02-5553a528e351",
   "metadata": {},
   "source": [
    "- Focused on US only data"
   ]
  },
  {
   "cell_type": "markdown",
   "id": "1a5ae01a-54dd-491b-8cc3-4b72828f63b4",
   "metadata": {},
   "source": [
    "- Locations with more than 1 patent filed (to reduce \"noise\")"
   ]
  },
  {
   "cell_type": "markdown",
   "id": "268ac6f0",
   "metadata": {
    "slideshow": {
     "slide_type": "fragment"
    }
   },
   "source": [
    "<h3 style=\"text-align: center;\">Spatial Plots and Trends </h3>"
   ]
  },
  {
   "cell_type": "markdown",
   "id": "d14a3118-9a08-4cf0-af70-00c64c1e0275",
   "metadata": {
    "editable": true,
    "slideshow": {
     "slide_type": "fragment"
    },
    "tags": []
   },
   "source": [
    "- Patent concentration\n",
    "    - West Coast, Upper Midwest, Upper East Coast"
   ]
  },
  {
   "cell_type": "markdown",
   "id": "4d7807b0-f493-4686-80cf-1a69d523a94e",
   "metadata": {
    "editable": true,
    "slideshow": {
     "slide_type": ""
    },
    "tags": []
   },
   "source": [
    "- Endowment level changes\n",
    "    - West Coast (lower California)(Washington), Eastern Midwest, East Coast (upper New York)"
   ]
  },
  {
   "cell_type": "markdown",
   "id": "f197afbd",
   "metadata": {
    "slideshow": {
     "slide_type": "slide"
    },
    "tags": []
   },
   "source": [
    "<h3 style=\"text-align: center;\">Results</h3>"
   ]
  },
  {
   "cell_type": "markdown",
   "id": "815702a3-24dc-4193-9547-304369d5b786",
   "metadata": {},
   "source": [
    "- bootstrap sampling: r= -0.1845, r$^2$= 0.03404\n",
    "    - 95% Confidence Interval: [0.184537339701831$\\underline{78}$, 0.184537339701831$\\underline{56}$]"
   ]
  },
  {
   "cell_type": "markdown",
   "id": "b749a82b-634d-47fe-b3d9-8d6f49391fd9",
   "metadata": {},
   "source": [
    "- OLS: r$^2$= 0.00, r$^2$(adjusted)= -0.05"
   ]
  },
  {
   "cell_type": "markdown",
   "id": "b6e025c6-96fb-4a92-b306-93ed87528699",
   "metadata": {},
   "source": [
    "<h3 style=\"text-align: center;\"> Spatial Plots and Trends </h3>"
   ]
  },
  {
   "cell_type": "markdown",
   "id": "88aab64e-e714-443a-afa9-e412fb39c896",
   "metadata": {},
   "source": [
    "- Results indicate more variables affect both patent levels and unversity endowment spending changes"
   ]
  },
  {
   "cell_type": "markdown",
   "id": "e05dad4e-43c2-43db-9366-5ba0e82458ee",
   "metadata": {},
   "source": [
    "- More research/more data required to have results that (potentially) align with literature review findings"
   ]
  },
  {
   "cell_type": "markdown",
   "id": "35e46657-6f9a-43b3-8028-201923ad05f4",
   "metadata": {},
   "source": [
    "<h3 style=\"text-align: center;\"> Further Directions </h3>"
   ]
  },
  {
   "cell_type": "code",
   "execution_count": null,
   "id": "833887b3-723f-4a86-9912-7897cd849bae",
   "metadata": {},
   "outputs": [],
   "source": []
  }
 ],
 "metadata": {
  "celltoolbar": "Slideshow",
  "kernelspec": {
   "display_name": "econark",
   "language": "python",
   "name": "econark"
  },
  "language_info": {
   "codemirror_mode": {
    "name": "ipython",
    "version": 3
   },
   "file_extension": ".py",
   "mimetype": "text/x-python",
   "name": "python",
   "nbconvert_exporter": "python",
   "pygments_lexer": "ipython3",
   "version": "3.11.10"
  }
 },
 "nbformat": 4,
 "nbformat_minor": 5
}
