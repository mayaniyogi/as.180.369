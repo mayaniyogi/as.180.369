{
 "cells": [
  {
   "cell_type": "markdown",
   "id": "d4af82b8-f8b2-4683-ae46-d6ea2897a185",
   "metadata": {},
   "source": [
    "---\n",
    "title: Methods\n",
    "date: 2023-09-30\n",
    "authors:\n",
    "- name: Maya Niyogi\n",
    "  roles: \n",
    "    - Conceptualization\n",
    "    - Visualization\n",
    "---"
   ]
  },
  {
   "cell_type": "markdown",
   "id": "4b09bc10-a23a-4131-8c38-3db6a0653d16",
   "metadata": {},
   "source": [
    "{cite:t}`Kantor2014-jc`"
   ]
  },
  {
   "cell_type": "markdown",
   "id": "987ecd11-12b3-4376-8f7e-9385e4d4c575",
   "metadata": {},
   "source": [
    "## Data Sourcing Outline\n",
    "- data derived from USPTO patent information\n",
    "    - USPTO patent view api\n",
    "- university data from US Department of Education's College Scorecard API\n",
    "    - latitude, longitude, endowment at start of year, endowment at end of year"
   ]
  },
  {
   "cell_type": "markdown",
   "id": "f6124d22-a9cf-43ef-8912-1920a4f397e7",
   "metadata": {},
   "source": [
    "Data for this study was sourced from two primary databases. Patent data, including filing counts and relevant metadata, was gathered from the United States Patent and Trademark Office (USPTO) via the Patent View API. This provided detailed insights into patent activity within the United States, which was used as a proxy for regional innovation levels. University-specific data&mdash;including geographic coordinates and initial and year-end endowment values&mdash;was obtained through the U.S. Department of Education’s College Scorecard API. These datasets together enable an analysis of how university financial resources correlate with patent filings in the surrounding area, allowing for an examination of agglomeration forces in an economic context."
   ]
  },
  {
   "cell_type": "markdown",
   "id": "675b8463-6035-4af1-a0a9-7e4b546ffde2",
   "metadata": {},
   "source": [
    "## Data Processing Outline\n",
    "- due to processing constraints from USPTO, studying year 2021\n",
    "- USPTO: filtered data according to patents filed during year in US (filtered on US only)\n",
    "    - got location (city, state) for each patent filed, then ranked by number of counts (for personal intuition)\n",
    " "
   ]
  },
  {
   "cell_type": "markdown",
   "id": "8138a485-bcf0-4420-a3cb-626a7ef61437",
   "metadata": {},
   "source": [
    "Due to processing constraints, this study focuses on patents filed in the United States during the year 2021. USPTO data was filtered to include only patents with U.S. filing locations, and each entry was tagged with its respective city and state. This allowed for ranking locations by patent filing counts, providing a clearer view of regional innovation activity and a baseline for further analysis."
   ]
  },
  {
   "cell_type": "markdown",
   "id": "cafbbf59-cec9-44c8-a541-b94904c2a7aa",
   "metadata": {},
   "source": [
    "## Methods"
   ]
  },
  {
   "cell_type": "markdown",
   "id": "f1c8b5e0-ffa0-4f66-af06-6c8705480dcc",
   "metadata": {},
   "source": [
    "```{bibliography}\n",
    "\n",
    "```"
   ]
  },
  {
   "cell_type": "code",
   "execution_count": null,
   "id": "c6a01dfe-30f3-4465-b189-459b04f5df42",
   "metadata": {},
   "outputs": [],
   "source": []
  }
 ],
 "metadata": {
  "kernelspec": {
   "display_name": "econark",
   "language": "python",
   "name": "econark"
  },
  "language_info": {
   "codemirror_mode": {
    "name": "ipython",
    "version": 3
   },
   "file_extension": ".py",
   "mimetype": "text/x-python",
   "name": "python",
   "nbconvert_exporter": "python",
   "pygments_lexer": "ipython3",
   "version": "3.11.8"
  }
 },
 "nbformat": 4,
 "nbformat_minor": 5
}
