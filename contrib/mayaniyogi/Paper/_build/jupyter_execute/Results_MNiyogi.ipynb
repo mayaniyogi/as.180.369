{
 "cells": [
  {
   "cell_type": "markdown",
   "id": "d4af82b8-f8b2-4683-ae46-d6ea2897a185",
   "metadata": {},
   "source": [
    "---\n",
    "title: Results\n",
    "date: 2023-09-30\n",
    "authors:\n",
    "- name: Maya Niyogi\n",
    "---"
   ]
  },
  {
   "cell_type": "markdown",
   "id": "4b09bc10-a23a-4131-8c38-3db6a0653d16",
   "metadata": {},
   "source": [
    "{cite:t}`Kantor2014-jc`"
   ]
  },
  {
   "cell_type": "markdown",
   "id": "f6124d22-a9cf-43ef-8912-1920a4f397e7",
   "metadata": {},
   "source": [
    "### Results\n",
    "\n",
    "Using a bootstrap resampling technique, we estimated the correlation between university endowment spending concentration and patent concentration. The bootstrap correlation coefficient was calculated to be approximately 0.1845 (r$^2$= 0.03404). This positive correlation suggests a positive relationship between endowment spending and patent concentration, indicating that cities with higher local university endowment spending concentrations tend to have higher concentrations of patents.\n",
    "\n",
    "Additionally, the bootstrap procedure yielded a 95% confidence interval for the correlation coefficient, which ranged from 0.18453733970183178 to 0.18453733970183156; mean for the confidence interval was 0.1845. This interval provides further context to the correlation observed, allowing us to assess the stability and significance of the relationship."
   ]
  },
  {
   "cell_type": "markdown",
   "id": "87993d1d-2d72-4db6-ab45-b0a8de1caa95",
   "metadata": {},
   "source": [
    "### Conclusion\n",
    "\n",
    "In this study, we successfully spatially plotted both the distribution of patents and the changes in university endowments across various cities. The spatial visualizations provide a clear illustration of the geographical patterns of innovation, as indicated by patent concentrations, and financial resources, as reflected in endowment changes.\n",
    "\n",
    "Overall, these findings contribute to our understanding of the relationship between university financial resources and local innovation outputs, highlighting important implications for policy and investment in higher education and research institutions."
   ]
  },
  {
   "cell_type": "markdown",
   "id": "cafbbf59-cec9-44c8-a541-b94904c2a7aa",
   "metadata": {},
   "source": [
    "## Methods"
   ]
  },
  {
   "cell_type": "markdown",
   "id": "f1c8b5e0-ffa0-4f66-af06-6c8705480dcc",
   "metadata": {},
   "source": [
    "```{bibliography}\n",
    "\n",
    "```"
   ]
  },
  {
   "cell_type": "markdown",
   "id": "50f68c75-919b-43d7-aa23-89955f7a57e8",
   "metadata": {},
   "source": [
    "The analysis was conducted with the endowment spending as the independent variable and patent concentration as the dependent variable. Specifically, the code implemented was structured to confirm this relationship. The `merged_df` DataFrame was created by merging patent counts and endowment difference data based on city and state. The correlation calculation was performed between `Counts` (patent concentration) and `endowment_diff` (endowment spending), confirming that the endowment spending is indeed the independent variable and the patent concentration is the dependent variable."
   ]
  },
  {
   "cell_type": "code",
   "execution_count": null,
   "id": "33726daf-2bd8-4679-86f6-59a660d4ad03",
   "metadata": {},
   "outputs": [],
   "source": []
  }
 ],
 "metadata": {
  "kernelspec": {
   "display_name": "econark",
   "language": "python",
   "name": "econark"
  },
  "language_info": {
   "codemirror_mode": {
    "name": "ipython",
    "version": 3
   },
   "file_extension": ".py",
   "mimetype": "text/x-python",
   "name": "python",
   "nbconvert_exporter": "python",
   "pygments_lexer": "ipython3",
   "version": "3.11.10"
  }
 },
 "nbformat": 4,
 "nbformat_minor": 5
}