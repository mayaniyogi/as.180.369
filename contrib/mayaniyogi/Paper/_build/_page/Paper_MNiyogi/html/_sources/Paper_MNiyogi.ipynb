{
 "cells": [
  {
   "cell_type": "markdown",
   "id": "d4af82b8-f8b2-4683-ae46-d6ea2897a185",
   "metadata": {},
   "source": [
    "---\n",
    "title: INSERT TITLE HERE\n",
    "date: 2023-09-30\n",
    "authors:\n",
    "- name: Maya Niyogi\n",
    "  roles: \n",
    "    - Conceptualization\n",
    "    - Visualization\n",
    "---"
   ]
  },
  {
   "cell_type": "markdown",
   "id": "987ecd11-12b3-4376-8f7e-9385e4d4c575",
   "metadata": {},
   "source": [
    "## Abstract\n",
    "Agglomeration economies—economies of scale resulting from spatial proximity external to a firm—manifest in various ways in urban settings, yet the role of university-driven knowledge spillovers on local innovation remains underexplored. This paper quantifies the impact of knowledge spillovers on local innovation levels, using university endowment spending as an instrumental variable for research activity and educational output. Spatial regression analysis is applied to USPTO patent production data to explore the relationship between universities and local economies. Visual trends between university endowment levels and patent filing concetrations align, supporting the notion that knowledge spillovers enhance innovation in local economies. A weak relationship between university spending and patent production is found via bootstrap sampling, supporting the notion that knowledge spillovers enhance innovation in local economies. The agglomeration effect is further evidenced when examining the relationship between university investment levels and patent filings. These findings suggest that targeted investments in higher education and research institutions can stimulate local innovation ecosystems, offering valuable insights for policymakers aiming to foster regional economic growth through knowledge-based agglomeration."
   ]
  },
  {
   "cell_type": "markdown",
   "id": "675b8463-6035-4af1-a0a9-7e4b546ffde2",
   "metadata": {},
   "source": [
    "## Introduction\n",
    "\n",
    "University endowment spending has been posited to significantly influence local innovation through knowledge spillover effects, particularly in the form of patent production. This literature review aims to summarize existing research on the relationship between university endowments and innovation, with a specific focus on patent production. The review will cover studies from the past 20 years, focusing on the U.S. and global case studies, and will explore subtopics such as the spatial distribution of patents, industry-university collaboration, and the economic impact of knowledge spillovers. Key terms like “knowledge spillovers,” “university endowment spending,” and “patent production” will be defined to provide clarity. The review is organized into sections covering the theoretical background, key themes, and conclusions.\n",
    "\n",
    "Knowledge spillovers are a central concept in innovation economics, often explained through models like endogenous growth theory and regional innovation systems. Historically, the understanding of university-driven innovation has evolved, with early studies linking higher education to economic development {cite:p}`liu2015` {cite:p}`andrews2018`. Influential scholars such as Paul Romer, who developed the endogenous growth theory, and researchers like Jaffe and Audretsch, who focused on knowledge spillovers, have significantly contributed to this field {cite:p}`hausman2012` {cite:p}`abramovsky2007`. Debates persist over the extent to which university endowment spending influences patent activity compared to other factors like industry collaboration or government funding {cite:p}`lee2019` {cite:p}`eriksson2021`. These theories provide a framework for understanding the spatial dimensions of innovation around universities {cite:p}`ellison2007` {cite:p}`andersson2009`.\n",
    "\n",
    "Various methodological approaches have been employed to study knowledge spillovers, particularly in relation to patent production. These include econometric analysis of patent data, case studies of specific universities, and spatial regression models {cite:p}`henderson2007` {cite:p}`ellison2007`. Econometric models are robust in identifying causal effects but have limitations, such as difficulty in controlling for external factors {cite:p}`pierce2013` {cite:p}`sallee2011`. Qualitative case studies offer valuable insights into context-specific dynamics {cite:p}`charles2019` {cite:p}`allcott2013`. Additionally, spatial regression models have been used to analyze the geographic distribution of patents and their correlation with university endowment spending {cite:p}`diamond2016a` {cite:p}`fogli2019`.\n",
    "\n",
    "Studies have shown a positive relationship between university endowment spending and increased local patent production. For instance, {cite:t}`liu2015` found that land-grant universities significantly contributed to local innovation. Similarly, {cite:t}`andrews2018` highlighted the role of U.S. colleges in local invention. However, other studies, such as those by {cite:t}`bloom2019` and {cite:t}`diamond2016a`, suggest that private sector R&D may play a more critical role than university spending alone. Findings vary across regions and types of universities, with research-intensive institutions often showing stronger spillover effects {cite:p}`lee2019` {cite:p}`eriksson2021`. {cite:t}`pechman1987` and {cite:t}`gale2024` also discuss the broader economic impacts of university spending and innovation.\n",
    "\n",
    "Current debates focus on the best measures of knowledge spillovers, whether patents or other innovation metrics like startups or publications {cite:p}`hausman2012` {cite:p}`abramovsky2007`. Emerging trends include the role of digital innovation and how universities leverage endowments to support tech transfer programs {cite:p}`andersson2009` {cite:p}`baily2014`. New areas of inquiry involve the impacft of remote work and virtual university-industry collaborations on knowledge spillovers {cite:p}`fogli2019` {cite:p}`gale2024`. Additionally, the role of social networks and informal collaboration channels in enhancing knowledge spillovers is gaining attention {cite:p}`pierce2013` {cite:p}`sallee2011`.\n",
    "\n",
    "There are gaps in the literature regarding the long-term impact of endowment spending and the role of smaller, less research-intensive universities {cite:p}`pechman1987` {cite:p}`diamond2016a`. Future research could explore the role of social networks and informal collaboration channels in enhancing knowledge spillovers {cite:p}`pierce2013` {cite:p}`sallee2011`. Additionally, the impact of policy changes on university funding and innovation outcomes warrants further investigation {cite:p}`gale2024` {cite:p}`baily2014`.\n",
    "\n",
    "The literature indicates that university endowment spending positively influences local innovation and patent production, though other factors also play significant roles {cite:p}`liu2015` {cite:p}`andrews2018`. Understanding these effects can inform public policy on university funding, innovation, and regional economic development {cite:p}`bloom2019` {cite:p}`diamond2016a`. Ongoing research is crucial to fully grasp the dynamics of knowledge spillovers and their implications for economic growth {cite:p}`lee2019` {cite:p}`eriksson2021`."
   ]
  },
  {
   "cell_type": "markdown",
   "id": "f1c8b5e0-ffa0-4f66-af06-6c8705480dcc",
   "metadata": {},
   "source": [
    "```{bibliography}\n",
    "\n",
    "```"
   ]
  },
  {
   "cell_type": "markdown",
   "id": "c7ea8e26-5090-41f8-9a1e-c2fa6b873527",
   "metadata": {},
   "source": [
    "## Methods"
   ]
  },
  {
   "cell_type": "markdown",
   "id": "951476d9-6c35-4cdb-9364-01f6be230976",
   "metadata": {},
   "source": [
    "Data for this study was sourced from two primary databases. Patent data, including filing counts and relevant metadata, was gathered from the United States Patent and Trademark Office (USPTO) via the Patent View API. This provided detailed insights into patent activity within the United States, which was used as a proxy for regional innovation levels. University-specific data&mdash;including geographic coordinates and initial and year-end endowment values&mdash;was obtained through the U.S. Department of Education’s College Scorecard API. These datasets together enabled an analysis of how university financial resources correlate with patent filings in the surrounding area, allowing for an examination of agglomeration forces in an economic context."
   ]
  },
  {
   "cell_type": "markdown",
   "id": "9a4ca361-a42f-45ba-bb49-2237b1026deb",
   "metadata": {},
   "source": [
    "Due to processing constraints, this study focused on patents filed in the United States during the year 2021. USPTO data was filtered to include only patents with U.S. filing locations, and each entry was tagged with its respective city and state. This allowed for ranking locations by patent filing counts, providing a clearer view of regional innovation activity and a baseline for further analysis. This also led to the decision of focusing on locations with more than 1 filed patent&mdash;therefore removing \"noise\" from the dataset, e.g. cities with non-English entries.\n",
    "\n",
    "An approximate latitude and longitude for each city of study was sourced by ChatGPT with the prompt, \"Please provide an approximate latitude and longitude for each city. No code please!\". This prompt circumvented the use of APIs such as Google's, which is incompatible with the remote server the analysis was conducted with. \n",
    "\n",
    "Once patent data, university data, and both data sets' entries' coordinates were sourced, two data frames were created: one for patent data and the other for university. Using the Python package [plotly.ex](https://plotly.com/python/plotly-express/), spatial plots of the patent data and the university endowment spending data were created. "
   ]
  },
  {
   "cell_type": "code",
   "execution_count": null,
   "id": "cf15c731-1e80-433a-b3a4-ca110d5be10e",
   "metadata": {},
   "outputs": [],
   "source": []
  }
 ],
 "metadata": {
  "kernelspec": {
   "display_name": "econark",
   "language": "python",
   "name": "econark"
  },
  "language_info": {
   "codemirror_mode": {
    "name": "ipython",
    "version": 3
   },
   "file_extension": ".py",
   "mimetype": "text/x-python",
   "name": "python",
   "nbconvert_exporter": "python",
   "pygments_lexer": "ipython3",
   "version": "3.11.10"
  }
 },
 "nbformat": 4,
 "nbformat_minor": 5
}
