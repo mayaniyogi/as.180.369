{
 "cells": [
  {
   "cell_type": "markdown",
   "id": "846d7e43-0a8e-4057-a1f8-45f1a01fa7ef",
   "metadata": {
    "editable": true,
    "slideshow": {
     "slide_type": "notes"
    },
    "tags": []
   },
   "source": [
    "---\n",
    "title: Knowledge Spillovers in Innovation Economics: Understanding University Endowment Changes and Patent Concentration Correlations\n",
    "date: 2024-11-11\n",
    "authors:\n",
    "- name: Maya Niyogi\n",
    "  roles: \n",
    "    - Conceptualization\n",
    "    - Visualization\n",
    "    - Processing\n",
    "    - Analyses\n",
    "    - Writing\n",
    "---"
   ]
  },
  {
   "cell_type": "markdown",
   "id": "987ecd11-12b3-4376-8f7e-9385e4d4c575",
   "metadata": {
    "editable": true,
    "slideshow": {
     "slide_type": ""
    },
    "tags": []
   },
   "source": [
    "## Abstract\n",
    "Agglomeration economies&mdash;economies of scale resulting from spatial proximity external to a firm&mdash;manifest in various ways in urban settings, yet the role of university-driven knowledge spillovers on local innovation remains underexplored. This paper quantifies the impact of knowledge spillovers on local innovation levels, using university endowment spending as an instrumental variable for research activity and educational output. Spatial regression analysis is applied to USPTO patent production data to explore the relationship between universities and local economies. Visual trends between university endowment levels and patent filing concentrations support the notion that knowledge spillovers enhance innovation in local economies. A weak relationship between university spending and patent production is found via bootstrap sampling, reinforcing this finding but indicating a need to further explore agglomeration-related variables. These findings suggest that targeted investments in higher education and research institutions can stimulate local innovation ecosystems, offering valuable insights for policymakers aiming to foster regional economic growth through knowledge-based agglomeration."
   ]
  },
  {
   "cell_type": "markdown",
   "id": "675b8463-6035-4af1-a0a9-7e4b546ffde2",
   "metadata": {
    "editable": true,
    "jp-MarkdownHeadingCollapsed": true,
    "slideshow": {
     "slide_type": ""
    },
    "tags": []
   },
   "source": [
    "## Introduction\n",
    "\n",
    "University endowment spending has been posited to significantly influence local innovation through knowledge spillover effects, particularly in the form of patent production. This literature review aims to summarize existing research on the relationship between university endowments and innovation, with a specific focus on patent production. It covers studies from the past 20 years, focusing on the U.S. and global case studies, and explores subtopics such as the spatial distribution of patents, industry-university collaboration, and the economic impact of knowledge spillovers. Key terms like “knowledge spillovers,” “university endowment spending,” and “patent production” are explored to provide clarity. The review is organized into sections covering the theoretical background, key themes, and conclusions.\n",
    "\n",
    "Knowledge spillovers are a central concept in innovation economics, often explained through models like endogenous growth theory and regional innovation systems. Historically, the understanding of university-driven innovation has evolved, with early studies linking higher education to economic development {cite:p}`liu2015` {cite:p}`andrews2018`. Influential scholars such as Paul Romer, who developed the endogenous growth theory, and researchers like Jaffe and Audretsch, who focused on knowledge spillovers, have significantly contributed to this field {cite:p}`hausman2012` {cite:p}`abramovsky2007`. Debates persist regarding the extent to which university endowment spending influences patent activity compared to other factors such as industry collaboration or government funding {cite:p}`lee2019` {cite:p}`eriksson2021`. These theories provide a framework for understanding the spatial dimensions of innovation around universities {cite:p}`ellison2007` {cite:p}`andersson2009`.\n",
    "\n",
    "Various methodological approaches have been employed to study knowledge spillovers, particularly in relation to patent production. These include econometric analyses of patent data, case studies of specific universities, and spatial regression models {cite:p}`henderson2007` {cite:p}`ellison2007`. Econometric models are robust in identifying causal effects but have limitations, such as difficulty in controlling for external factors {cite:p}`pierce2013` {cite:p}`sallee2011`. Qualitative case studies offer valuable insights into context-specific dynamics {cite:p}`charles2019` {cite:p}`allcott2013`. Spatial regression models, meanwhile, have been used to analyze the geographic distribution of patents and their correlation with university endowment spending {cite:p}`diamond2016a` {cite:p}`fogli2019`.\n",
    "\n",
    "Studies have shown a positive relationship between university endowment spending and increased local patent production. For instance, {cite:t}`liu2015` found that land-grant universities significantly contributed to local innovation. Similarly, {cite:t}`andrews2018` highlighted the role of U.S. colleges in local invention. However, other studies, such as those by {cite:t}`bloom2019` and {cite:t}`diamond2016a`, suggest that private sector R&D may play a more critical role than university spending alone. Findings vary across regions and types of universities, with research-intensive institutions often showing stronger spillover effects {cite:p}`lee2019` {cite:p}`eriksson2021`. {cite:t}`pechman1987` and {cite:t}`gale2024` also discuss the broader economic impacts of university spending and innovation.\n",
    "\n",
    "Current debates focus on the best measures of knowledge spillovers, whether patents or other innovation metrics like startups or publications {cite:p}`hausman2012` {cite:p}`abramovsky2007`. Emerging trends include the role of digital innovation and how universities leverage endowments to support tech transfer programs {cite:p}`andersson2009` {cite:p}`baily2014`. New areas of inquiry involve the impact of remote work and virtual university-industry collaborations on knowledge spillovers {cite:p}`fogli2019` {cite:p}`gale2024`. Additionally, the role of social networks and informal collaboration channels in enhancing knowledge spillovers is gaining attention {cite:p}`pierce2013` {cite:p}`sallee2011`.\n",
    "\n",
    "There are gaps in the literature regarding the long-term impact of endowment spending and the role of smaller, less research-intensive universities {cite:p}`pechman1987` {cite:p}`diamond2016a`. Future research could explore the role of social networks and informal collaboration channels in enhancing knowledge spillovers {cite:p}`pierce2013` {cite:p}`sallee2011`. Additionally, the impact of policy changes on university funding and innovation outcomes warrants further investigation {cite:p}`gale2024` {cite:p}`baily2014`.\n",
    "\n",
    "The literature indicates that university endowment spending positively influences local innovation and patent production, though other factors also play significant roles {cite:p}`liu2015` {cite:p}`andrews2018`. Understanding these effects can inform public policy on university funding, innovation, and regional economic development {cite:p}`bloom2019` {cite:p}`diamond2016a`. Ongoing research is crucial to fully grasp the dynamics of knowledge spillovers and their implications for economic growth {cite:p}`lee2019` {cite:p}`eriksson2021`."
   ]
  },
  {
   "cell_type": "markdown",
   "id": "c7ea8e26-5090-41f8-9a1e-c2fa6b873527",
   "metadata": {},
   "source": [
    "## Methods"
   ]
  },
  {
   "cell_type": "markdown",
   "id": "951476d9-6c35-4cdb-9364-01f6be230976",
   "metadata": {
    "editable": true,
    "slideshow": {
     "slide_type": ""
    },
    "tags": []
   },
   "source": [
    "Data for this study was sourced from two primary databases. Patent data, including filing counts and relevant metadata, was obtained from the United States Patent and Trademark Office (USPTO] via the [Patent View API](https://developer.uspto.gov/api-catalog/patentsview). This provided detailed insights into patent activity within the United States, serving as a proxy for regional innovation levels. University-specific data&mdash;including geographic coordinates and initial and year-end endowment values&mdash;was retrieved from the U.S. Department of Education’s [College Scorecard API](https://collegescorecard.ed.gov/data/api-documentation/). These datasets together facilitated an analysis of the correlation between university financial resources and patent filings in the surrounding area, enabling an exploration of agglomeration forces in an economic context."
   ]
  },
  {
   "cell_type": "markdown",
   "id": "9a4ca361-a42f-45ba-bb49-2237b1026deb",
   "metadata": {},
   "source": [
    "Due to data processing constraints, the study focused on patents filed in the United States during 2021. USPTO data was filtered to include only patents with U.S. filing locations, with each entry tagged by its respective city and state. This filtering allowed for ranking locations by patent filing counts, providing a clearer view of regional innovation activity and establishing a baseline for further analysis. Locations with only one patent filing were excluded to minimize \"noise\" in the dataset, e.g., cities with non-English entries.\n",
    "\n",
    "Approximate latitude and longitude coordinates for each city in the study were sourced via ChatGPT with the prompt, \"Please provide an approximate latitude and longitude for each city. No code please!\". This prompt circumvented the use of APIs&mdash;such as Google's&mdash;which is incompatible with the remote server hosting the analysis. \n",
    "\n",
    "Once the patent data, university data, and geographic coordinates were sourced, two data frames were created: one for patent data and the other for university data. Using the Python package [plotly.ex](https://plotly.com/python/plotly-express/), spatial plots of the patent data and the university endowment spending data were created. These visualizations revealed that the highest endowment changes were along the West Coast&dash;notably in lower California and Washington; across the eastern Midwest; and heavily along the East Coast, particularly the upper East Coast near and around New York.\n",
    "\n",
    "Similarly, the patent concentration plot visualized higher concentrations of patents filed along the West Coast, the upper Midwest, and then the Upper East Coast&mdash;near and around New York. "
   ]
  },
  {
   "cell_type": "markdown",
   "id": "8990fca3-139e-4d57-a3dc-5f57506786a9",
   "metadata": {},
   "source": [
    "## Results"
   ]
  },
  {
   "cell_type": "markdown",
   "id": "21e4f08d-c41d-4a5d-aa0b-99addde6a3ab",
   "metadata": {},
   "source": [
    "Bootstrap resampling was used to estimate the correlation between university endowment spending concentration and patent concentration. The bootstrap correlation coefficient was calculated to be approximately -0.1845, with an r$^2$= 0.03404. This negative correlation suggests an inverse relationship between endowment spending and patent concentration, indicating that cities with higher local university endowment spending concentrations tend to have lower concentrations of patents.\n",
    "\n",
    "Additionally, the bootstrap procedure yields a 95% confidence interval for the correlation coefficient, which ranged from 0.18453733970183178 to 0.18453733970183156; mean for the confidence interval was 0.1845. This interval provides further context to the correlation observed, leading us to further assess the stability and significance of the relationship.\n",
    "\n",
    "The Ordinary Least Squares (OLS) regression model was used to examine the effect of university endowment spending levels on patent count concentrations more in depth. The model’s fit statistics reveal that it explains essentially none of the variation in patents counts, with an r$^2$ value of 0.000 and an adjusted r$^2$ of -0.005. This poor fit suggests that university endowment alone does not capture meaningful information about patent count concentrations. Additionally, the F-statistic’s p-value (0.964) indicates that the overall model is not statistically significant, reinforcing the lack of explanatory power in the model.\n",
    "\n",
    "Looking at the individual coefficients, the constant (intercept) is significant with a coefficient of 0.0002 and a p-value of 0.000, suggesting that the average value of patents concentration (scaled by patent count) when endowment spending is zero is 0.0002. However, the coefficient for endowment spending is extremely small (1.279e-14) and statistically insignificant, with a t-value of 0.046 and a p-value of 0.964. This implies that changes in university endowment levels have virtually no effect on patent counts within this model.\n",
    "\n",
    "Furthermore, diagnostic statistics indicate potential issues with the model. The residuals exhibit high skewness and kurtosis, as evidenced by the Omnibus test and related statistics, suggesting that the residuals might deviate from normality. The Durbin-Watson statistic (0.951) also indicates some positive autocorrelation in the residuals. The condition number&mdash;at 1.23e+08&mdash;is exceptionally high, which may indicate multicollinearity or numerical instability within the model. This condition number suggests that endowment change levels may be collinear with other variables, if they were included in the model, or that the data could have scaling issues.\n",
    "\n",
    "In summary, this OLS regression model demonstrates that university endowment spending levels do not have a statistically significant effect on patent concentration counts for the year 2021, and the model overall fails to provide a meaningful explanation for the dependent variable. Further refinement, potentially involving additional explanatory variables or data transformation, may be necessary to develop a model with greater explanatory power. Looking at a broader set of data (e.g., over multiple years) may provide greater insight into a potential relationship, as suggested by existing literature."
   ]
  },
  {
   "cell_type": "markdown",
   "id": "f284e047-c105-4598-b36e-88e085ffc102",
   "metadata": {},
   "source": [
    "## Conclusion"
   ]
  },
  {
   "cell_type": "markdown",
   "id": "ce948a02-138d-4b7b-8958-3467fbfe0db6",
   "metadata": {},
   "source": [
    "In this study, we successfully analyzed the spatial distribution of patent filings and university endowment changes across various U.S. cities to examine potential agglomeration effects on regional innovation. By integrating data from the United States Patent and Trademark Office (USPTO) and the U.S. Department of Education’s College Scorecard API, we developed a dataset that allowed us to explore how university financial resources correlate with patent filings in the surrounding areas. This approach enabled a more nuanced understanding of economic agglomeration forces in the context of higher education and innovation.\n",
    "\n",
    "Our spatial visualizations illustrate notable geographical patterns, with the highest endowment changes observed along the West Coast, especially in Southern California and Washington, as well as on the East Coast, particularly near New York. Similarly, regions with high concentrations of patent filings were found along the West Coast, the Upper Midwest, and the Upper East Coast. These patterns suggest a possible relationship between university financial resources and regional innovation levels, although further analysis would be needed to establish a causal link.\n",
    "\n",
    "Overall, these findings contribute to the literature on the relationship between higher education investment and local innovation outcomes. They have important implications for policymakers and investors considering strategies to enhance regional innovation ecosystems. By understanding where financial resources are concentrated and how they align with innovation outputs, stakeholders can make informed decisions about fostering economic growth through targeted investments in research institutions and higher education."
   ]
  },
  {
   "cell_type": "markdown",
   "id": "f1c8b5e0-ffa0-4f66-af06-6c8705480dcc",
   "metadata": {},
   "source": []
  },
  {
   "cell_type": "code",
   "execution_count": null,
   "id": "1ea25b06-53f5-4803-9591-f3b88f5465f5",
   "metadata": {},
   "outputs": [],
   "source": []
  },
  {
   "cell_type": "code",
   "execution_count": null,
   "id": "c97fcc04-3964-465e-8eb2-32336a44781f",
   "metadata": {},
   "outputs": [],
   "source": []
  },
  {
   "cell_type": "code",
   "execution_count": null,
   "id": "a524afbc-908e-43b1-b4f3-c2662c6640d6",
   "metadata": {},
   "outputs": [],
   "source": []
  }
 ],
 "metadata": {
  "kernelspec": {
   "display_name": "econark",
   "language": "python",
   "name": "econark"
  },
  "language_info": {
   "codemirror_mode": {
    "name": "ipython",
    "version": 3
   },
   "file_extension": ".py",
   "mimetype": "text/x-python",
   "name": "python",
   "nbconvert_exporter": "python",
   "pygments_lexer": "ipython3",
   "version": "3.11.10"
  }
 },
 "nbformat": 4,
 "nbformat_minor": 5
}
