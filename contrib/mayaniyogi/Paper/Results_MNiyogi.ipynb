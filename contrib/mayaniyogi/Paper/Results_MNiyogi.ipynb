{
 "cells": [
  {
   "cell_type": "markdown",
   "id": "d4af82b8-f8b2-4683-ae46-d6ea2897a185",
   "metadata": {},
   "source": [
    "---\n",
    "title: Results\n",
    "date: 2023-09-30\n",
    "authors:\n",
    "- name: Maya Niyogi\n",
    "---"
   ]
  },
  {
   "cell_type": "markdown",
   "id": "4b09bc10-a23a-4131-8c38-3db6a0653d16",
   "metadata": {},
   "source": [
    "{cite:t}`Kantor2014-jc`"
   ]
  },
  {
   "cell_type": "markdown",
   "id": "f6124d22-a9cf-43ef-8912-1920a4f397e7",
   "metadata": {},
   "source": [
    "### Results\n",
    "\n",
    "In this study, we successfully spatially plotted both the distribution of patents and the changes in university endowments across various cities. The spatial visualizations provide a clear illustration of the geographical patterns of innovation, as indicated by patent concentrations, and financial resources, as reflected in endowment changes.\n",
    "\n",
    "Using a bootstrap resampling technique, we estimated the correlation between patent concentration and university endowment spending concentration. The bootstrap correlation coefficient was calculated to be approximately -0.1845. This negative correlation suggests an inverse relationship between patent concentration and endowment spending, indicating that cities with higher concentrations of patents tend to have lower endowment spending concentrations.\n",
    "\n",
    "Additionally, the bootstrap procedure yielded a 95% confidence interval for the correlation coefficient, which ranged from -0.18453733970183178 to -0.18453733970183156; mean for the confidence interval was -0.1845. This interval provides further context to the correlation observed, allowing us to assess the stability and significance of the relationship.\n",
    "\n",
    "The analysis was conducted with the endowment spending as the independent variable and patent concentration as the dependent variable. Specifically, the code implemented was structured to confirm this relationship. The `merged_df` DataFrame was created by merging patent counts and endowment difference data based on city and state. The correlation calculation was performed between `Counts` (patent concentration) and `endowment_diff` (endowment spending), confirming that the endowment spending is indeed the independent variable and the patent concentration is the dependent variable.\n",
    "\n",
    "Overall, these findings contribute to our understanding of the relationship between university financial resources and local innovation outputs, highlighting important implications for policy and investment in higher education and research institutions."
   ]
  },
  {
   "cell_type": "markdown",
   "id": "cafbbf59-cec9-44c8-a541-b94904c2a7aa",
   "metadata": {},
   "source": [
    "## Methods"
   ]
  },
  {
   "cell_type": "markdown",
   "id": "f1c8b5e0-ffa0-4f66-af06-6c8705480dcc",
   "metadata": {},
   "source": [
    "```{bibliography}\n",
    "\n",
    "```"
   ]
  },
  {
   "cell_type": "code",
   "execution_count": null,
   "id": "c6a01dfe-30f3-4465-b189-459b04f5df42",
   "metadata": {},
   "outputs": [],
   "source": []
  }
 ],
 "metadata": {
  "kernelspec": {
   "display_name": "econark",
   "language": "python",
   "name": "econark"
  },
  "language_info": {
   "codemirror_mode": {
    "name": "ipython",
    "version": 3
   },
   "file_extension": ".py",
   "mimetype": "text/x-python",
   "name": "python",
   "nbconvert_exporter": "python",
   "pygments_lexer": "ipython3",
   "version": "3.11.8"
  }
 },
 "nbformat": 4,
 "nbformat_minor": 5
}
