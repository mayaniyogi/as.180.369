{
 "cells": [
  {
   "cell_type": "code",
   "execution_count": 1,
   "id": "a4d79715-a79d-4693-9064-1dbbbf5f33da",
   "metadata": {
    "scrolled": true
   },
   "outputs": [
    {
     "name": "stdout",
     "output_type": "stream",
     "text": [
      "Collecting geopandas\n",
      "  Downloading geopandas-1.0.1-py3-none-any.whl.metadata (2.2 kB)\n",
      "Requirement already satisfied: matplotlib in /home/idies/mambaforge/envs/econark/lib/python3.11/site-packages (3.8.3)\n",
      "Requirement already satisfied: numpy>=1.22 in /home/idies/mambaforge/envs/econark/lib/python3.11/site-packages (from geopandas) (1.26.4)\n",
      "Collecting pyogrio>=0.7.2 (from geopandas)\n",
      "  Downloading pyogrio-0.10.0-cp311-cp311-manylinux_2_28_x86_64.whl.metadata (5.5 kB)\n",
      "Requirement already satisfied: packaging in /home/idies/mambaforge/envs/econark/lib/python3.11/site-packages (from geopandas) (23.2)\n",
      "Requirement already satisfied: pandas>=1.4.0 in /home/idies/mambaforge/envs/econark/lib/python3.11/site-packages (from geopandas) (2.2.1)\n",
      "Collecting pyproj>=3.3.0 (from geopandas)\n",
      "  Downloading pyproj-3.7.0-cp311-cp311-manylinux_2_17_x86_64.manylinux2014_x86_64.whl.metadata (31 kB)\n",
      "Collecting shapely>=2.0.0 (from geopandas)\n",
      "  Downloading shapely-2.0.6-cp311-cp311-manylinux_2_17_x86_64.manylinux2014_x86_64.whl.metadata (7.0 kB)\n",
      "Requirement already satisfied: contourpy>=1.0.1 in /home/idies/mambaforge/envs/econark/lib/python3.11/site-packages (from matplotlib) (1.2.0)\n",
      "Requirement already satisfied: cycler>=0.10 in /home/idies/mambaforge/envs/econark/lib/python3.11/site-packages (from matplotlib) (0.12.1)\n",
      "Requirement already satisfied: fonttools>=4.22.0 in /home/idies/mambaforge/envs/econark/lib/python3.11/site-packages (from matplotlib) (4.49.0)\n",
      "Requirement already satisfied: kiwisolver>=1.3.1 in /home/idies/mambaforge/envs/econark/lib/python3.11/site-packages (from matplotlib) (1.4.5)\n",
      "Requirement already satisfied: pillow>=8 in /home/idies/mambaforge/envs/econark/lib/python3.11/site-packages (from matplotlib) (10.2.0)\n",
      "Requirement already satisfied: pyparsing>=2.3.1 in /home/idies/mambaforge/envs/econark/lib/python3.11/site-packages (from matplotlib) (3.1.1)\n",
      "Requirement already satisfied: python-dateutil>=2.7 in /home/idies/mambaforge/envs/econark/lib/python3.11/site-packages (from matplotlib) (2.8.2)\n",
      "Requirement already satisfied: pytz>=2020.1 in /home/idies/mambaforge/envs/econark/lib/python3.11/site-packages (from pandas>=1.4.0->geopandas) (2024.1)\n",
      "Requirement already satisfied: tzdata>=2022.7 in /home/idies/mambaforge/envs/econark/lib/python3.11/site-packages (from pandas>=1.4.0->geopandas) (2024.1)\n",
      "Requirement already satisfied: certifi in /home/idies/mambaforge/envs/econark/lib/python3.11/site-packages (from pyogrio>=0.7.2->geopandas) (2024.2.2)\n",
      "Requirement already satisfied: six>=1.5 in /home/idies/mambaforge/envs/econark/lib/python3.11/site-packages (from python-dateutil>=2.7->matplotlib) (1.16.0)\n",
      "Downloading geopandas-1.0.1-py3-none-any.whl (323 kB)\n",
      "\u001b[2K   \u001b[90m━━━━━━━━━━━━━━━━━━━━━━━━━━━━━━━━━━━━━━━━\u001b[0m \u001b[32m323.6/323.6 kB\u001b[0m \u001b[31m14.6 MB/s\u001b[0m eta \u001b[36m0:00:00\u001b[0m\n",
      "\u001b[?25hDownloading pyogrio-0.10.0-cp311-cp311-manylinux_2_28_x86_64.whl (24.1 MB)\n",
      "\u001b[2K   \u001b[90m━━━━━━━━━━━━━━━━━━━━━━━━━━━━━━━━━━━━━━━━\u001b[0m \u001b[32m24.1/24.1 MB\u001b[0m \u001b[31m33.0 MB/s\u001b[0m eta \u001b[36m0:00:00\u001b[0m00:01\u001b[0m00:01\u001b[0m\n",
      "\u001b[?25hDownloading pyproj-3.7.0-cp311-cp311-manylinux_2_17_x86_64.manylinux2014_x86_64.whl (9.5 MB)\n",
      "\u001b[2K   \u001b[90m━━━━━━━━━━━━━━━━━━━━━━━━━━━━━━━━━━━━━━━━\u001b[0m \u001b[32m9.5/9.5 MB\u001b[0m \u001b[31m39.7 MB/s\u001b[0m eta \u001b[36m0:00:00\u001b[0m00:01\u001b[0m00:01\u001b[0m\n",
      "\u001b[?25hDownloading shapely-2.0.6-cp311-cp311-manylinux_2_17_x86_64.manylinux2014_x86_64.whl (2.5 MB)\n",
      "\u001b[2K   \u001b[90m━━━━━━━━━━━━━━━━━━━━━━━━━━━━━━━━━━━━━━━━\u001b[0m \u001b[32m2.5/2.5 MB\u001b[0m \u001b[31m40.2 MB/s\u001b[0m eta \u001b[36m0:00:00\u001b[0ma \u001b[36m0:00:01\u001b[0m\n",
      "\u001b[?25hInstalling collected packages: shapely, pyproj, pyogrio, geopandas\n",
      "Successfully installed geopandas-1.0.1 pyogrio-0.10.0 pyproj-3.7.0 shapely-2.0.6\n"
     ]
    }
   ],
   "source": [
    "#!pip install geopandas matplotlib"
   ]
  },
  {
   "cell_type": "code",
   "execution_count": 5,
   "id": "8d03ff60-6eda-434f-b258-fd106daa23b4",
   "metadata": {
    "scrolled": true
   },
   "outputs": [
    {
     "name": "stdout",
     "output_type": "stream",
     "text": [
      "Collecting geodatasets\n",
      "  Downloading geodatasets-2024.8.0-py3-none-any.whl.metadata (5.4 kB)\n",
      "Collecting pooch (from geodatasets)\n",
      "  Downloading pooch-1.8.2-py3-none-any.whl.metadata (10 kB)\n",
      "Requirement already satisfied: platformdirs>=2.5.0 in /home/idies/mambaforge/envs/econark/lib/python3.11/site-packages (from pooch->geodatasets) (4.2.0)\n",
      "Requirement already satisfied: packaging>=20.0 in /home/idies/mambaforge/envs/econark/lib/python3.11/site-packages (from pooch->geodatasets) (23.2)\n",
      "Requirement already satisfied: requests>=2.19.0 in /home/idies/mambaforge/envs/econark/lib/python3.11/site-packages (from pooch->geodatasets) (2.31.0)\n",
      "Requirement already satisfied: charset-normalizer<4,>=2 in /home/idies/mambaforge/envs/econark/lib/python3.11/site-packages (from requests>=2.19.0->pooch->geodatasets) (3.3.2)\n",
      "Requirement already satisfied: idna<4,>=2.5 in /home/idies/mambaforge/envs/econark/lib/python3.11/site-packages (from requests>=2.19.0->pooch->geodatasets) (3.6)\n",
      "Requirement already satisfied: urllib3<3,>=1.21.1 in /home/idies/mambaforge/envs/econark/lib/python3.11/site-packages (from requests>=2.19.0->pooch->geodatasets) (2.2.1)\n",
      "Requirement already satisfied: certifi>=2017.4.17 in /home/idies/mambaforge/envs/econark/lib/python3.11/site-packages (from requests>=2.19.0->pooch->geodatasets) (2024.2.2)\n",
      "Downloading geodatasets-2024.8.0-py3-none-any.whl (20 kB)\n",
      "Downloading pooch-1.8.2-py3-none-any.whl (64 kB)\n",
      "\u001b[2K   \u001b[90m━━━━━━━━━━━━━━━━━━━━━━━━━━━━━━━━━━━━━━━━\u001b[0m \u001b[32m64.6/64.6 kB\u001b[0m \u001b[31m5.6 MB/s\u001b[0m eta \u001b[36m0:00:00\u001b[0m\n",
      "\u001b[?25hInstalling collected packages: pooch, geodatasets\n",
      "Successfully installed geodatasets-2024.8.0 pooch-1.8.2\n"
     ]
    }
   ],
   "source": [
    "!pip install geodatasets"
   ]
  },
  {
   "cell_type": "code",
   "execution_count": 14,
   "id": "be2ba0e1-a372-4c24-902c-d941e597067a",
   "metadata": {},
   "outputs": [],
   "source": [
    "import geodatasets\n",
    "import geopandas as gpd\n",
    "import matplotlib.pyplot as plt\n",
    "import shapely.geometry\n",
    "from shapely.geometry import Point\n",
    "import os"
   ]
  },
  {
   "cell_type": "code",
   "execution_count": 20,
   "id": "de3a1972-121a-4cc2-8b14-1d6571d57a77",
   "metadata": {
    "scrolled": true
   },
   "outputs": [
    {
     "name": "stderr",
     "output_type": "stream",
     "text": [
      "/home/idies/mambaforge/envs/econark/lib/python3.11/site-packages/pyogrio/raw.py:198: RuntimeWarning: Invalid range specified\n",
      "\n",
      "  return ogr_read(\n"
     ]
    },
    {
     "ename": "DataSourceError",
     "evalue": "'featurecla  scalerank adm1_code  diss_me iso_3166_2  \\0   Admin-1 scale rank          2  USA-3514     3514      US-MN   1   Admin-1 scale rank          2  USA-3515     3515      US-MT   2   Admin-1 scale rank          2  USA-3516     3516      US-ND   3   Admin-1 scale rank          2  USA-3517     3517      US-HI   4   Admin-1 scale rank          2  USA-3518     3518      US-ID   5   Admin-1 scale rank          2  USA-3519     3519      US-WA   6   Admin-1 scale rank          2  USA-3520     3520      US-AZ   7   Admin-1 scale rank          2  USA-3521     3521      US-CA   8   Admin-1 scale rank          2  USA-3522     3522      US-CO   9   Admin-1 scale rank          2  USA-3523     3523      US-NV   10  Admin-1 scale rank          2  USA-3524     3524      US-NM   11  Admin-1 scale rank          2  USA-3525     3525      US-OR   12  Admin-1 scale rank          2  USA-3526     3526      US-UT   13  Admin-1 scale rank          2  USA-3527     3527      US-WY   14  Admin-1 scale rank          2  USA-3528     3528      US-AR   15  Admin-1 scale rank          2  USA-3529     3529      US-IA   16  Admin-1 scale rank          2  USA-3530     3530      US-KS   17  Admin-1 scale rank          2  USA-3531     3531      US-MO   18  Admin-1 scale rank          2  USA-3532     3532      US-NE   19  Admin-1 scale rank          2  USA-3533     3533      US-OK   20  Admin-1 scale rank          2  USA-3534     3534      US-SD   21  Admin-1 scale rank          2  USA-3535     3535      US-LA   22  Admin-1 scale rank          2  USA-3536     3536      US-TX   23  Admin-1 scale rank          2  USA-3537     3537      US-CT   24  Admin-1 scale rank          2  USA-3513     3513      US-MA   25  Admin-1 scale rank          2  USA-3538     3538      US-NH   26  Admin-1 scale rank          2  USA-3539     3539      US-RI   27  Admin-1 scale rank          2  USA-3540     3540      US-VT   28  Admin-1 scale rank          2  USA-3541     3541      US-AL   29  Admin-1 scale rank          2  USA-3542     3542      US-FL   30  Admin-1 scale rank          2  USA-3543     3543      US-GA   31  Admin-1 scale rank          2  USA-3544     3544      US-MS   32  Admin-1 scale rank          2  USA-3545     3545      US-SC   33  Admin-1 scale rank          2  USA-3546     3546      US-IL   34  Admin-1 scale rank          2  USA-3547     3547      US-IN   35  Admin-1 scale rank          2  USA-3548     3548      US-KY   36  Admin-1 scale rank          2  USA-3549     3549      US-NC   37  Admin-1 scale rank          2  USA-3550     3550      US-OH   38  Admin-1 scale rank          2  USA-3551     3551      US-TN   39  Admin-1 scale rank          2  USA-3552     3552      US-VA   40  Admin-1 scale rank          2  USA-3553     3553      US-WI   41  Admin-1 scale rank          2  USA-3554     3554      US-WV   42  Admin-1 scale rank          2  USA-3555     3555      US-DE   43  Admin-1 scale rank          2  USA-3556     3556      US-DC   44  Admin-1 scale rank          2  USA-3557     3557      US-MD   45  Admin-1 scale rank          2  USA-3558     3558      US-NJ   46  Admin-1 scale rank          2  USA-3559     3559      US-NY   47  Admin-1 scale rank          2  USA-3560     3560      US-PA   48  Admin-1 scale rank          2  USA-3561     3561      US-ME   49  Admin-1 scale rank          2  USA-3562     3562      US-MI   50  Admin-1 scale rank          2  USA-3563     3563      US-AK                                               wikipedia iso_a2  adm0_sr  \\0              http://en.wikipedia.org/wiki/Minnesota     US        1   1                http://en.wikipedia.org/wiki/Montana     US        1   2           http://en.wikipedia.org/wiki/North_Dakota     US        1   3                 http://en.wikipedia.org/wiki/Hawaii     US        8   4                  http://en.wikipedia.org/wiki/Idaho     US        1   5     http://en.wikipedia.org/wiki/Washington_(state)     US        6   6                http://en.wikipedia.org/wiki/Arizona     US        1   7             http://en.wikipedia.org/wiki/California     US        8   8               http://en.wikipedia.org/wiki/Colorado     US        1   9                 http://en.wikipedia.org/wiki/Nevada     US        1   10            http://en.wikipedia.org/wiki/New_Mexico     US        1   11                http://en.wikipedia.org/wiki/Oregon     US        6   12                  http://en.wikipedia.org/wiki/Utah     US        1   13               http://en.wikipedia.org/wiki/Wyoming     US        1   14              http://en.wikipedia.org/wiki/Arkansas     US        1   15                  http://en.wikipedia.org/wiki/Iowa     US        1   16                http://en.wikipedia.org/wiki/Kansas     US        1   17              http://en.wikipedia.org/wiki/Missouri     US        1   18              http://en.wikipedia.org/wiki/Nebraska     US        1   19              http://en.wikipedia.org/wiki/Oklahoma     US        1   20          http://en.wikipedia.org/wiki/South_Dakota     US        1   21             http://en.wikipedia.org/wiki/Louisiana     US        5   22                 http://en.wikipedia.org/wiki/Texas     US        4   23           http://en.wikipedia.org/wiki/Connecticut     US        1   24         http://en.wikipedia.org/wiki/Massachusetts     US        6   25         http://en.wikipedia.org/wiki/New_Hampshire     US        1   26          http://en.wikipedia.org/wiki/Rhode_Island     US        6   27               http://en.wikipedia.org/wiki/Vermont     US        1   28               http://en.wikipedia.org/wiki/Alabama     US        5   29               http://en.wikipedia.org/wiki/Florida     US        5   30  http://en.wikipedia.org/wiki/Georgia_(U.S._state)     US        6   31           http://en.wikipedia.org/wiki/Mississippi     US        5   32        http://en.wikipedia.org/wiki/South_Carolina     US        1   33              http://en.wikipedia.org/wiki/Illinois     US        1   34               http://en.wikipedia.org/wiki/Indiana     US        1   35              http://en.wikipedia.org/wiki/Kentucky     US        1   36        http://en.wikipedia.org/wiki/North_Carolina     US        5   37                  http://en.wikipedia.org/wiki/Ohio     US        1   38             http://en.wikipedia.org/wiki/Tennessee     US        1   39              http://en.wikipedia.org/wiki/Virginia     US        6   40             http://en.wikipedia.org/wiki/Wisconsin     US        1   41         http://en.wikipedia.org/wiki/West_Virginia     US        1   42              http://en.wikipedia.org/wiki/Delaware     US        1   43      http://en.wikipedia.org/wiki/Washington,_D.C.     US        1   44              http://en.wikipedia.org/wiki/Maryland     US        1   45            http://en.wikipedia.org/wiki/New_Jersey     US        5   46              http://en.wikipedia.org/wiki/New_York     US        3   47          http://en.wikipedia.org/wiki/Pennsylvania     US        1   48                 http://en.wikipedia.org/wiki/Maine     US        6   49              http://en.wikipedia.org/wiki/Michigan     US        1   50                http://en.wikipedia.org/wiki/Alaska     US        6                       name                                           name_alt  \\0              Minnesota                                           MN|Minn.   1                Montana                                           MT|Mont.   2           North Dakota                                            ND|N.D.   3                 Hawaii                                          HI|Hawaii   4                  Idaho                                           ID|Idaho   5             Washington                                           WA|Wash.   6                Arizona                                           AZ|Ariz.   7             California                                          CA|Calif.   8               Colorado                                           CO|Colo.   9                 Nevada                                            NV|Nev.   10            New Mexico                                            NM|N.M.   11                Oregon                                            OR|Ore.   12                  Utah                                                 UT   13               Wyoming                                            WY|Wyo.   14              Arkansas                                            AR|Ark.   15                  Iowa                                            IA|Iowa   16                Kansas                                           KS|Kans.   17              Missouri                                                 MO   18              Nebraska                                           NE|Nebr.   19              Oklahoma                                           OK|Okla.   20          South Dakota                                            SD|S.D.   21             Louisiana                                                 LA   22                 Texas                                            TX|Tex.   23           Connecticut                                           CT|Conn.   24         Massachusetts             Commonwealth of Massachusetts|MA|Mass.   25         New Hampshire                                            NH|N.H.   26          Rhode Island  State of Rhode Island and Providence Plantatio...   27               Vermont                                                 VT   28               Alabama                                            AL|Ala.   29               Florida                                            FL|Fla.   30               Georgia                                             GA|Ga.   31           Mississippi                                           MS|Miss.   32        South Carolina                                            SC|S.C.   33              Illinois                                            IL|Ill.   34               Indiana                                            IN|Ind.   35              Kentucky                        Commonwealth of Kentucky|KY   36        North Carolina                                            NC|N.C.   37                  Ohio                                            OH|Ohio   38             Tennessee                                           TN|Tenn.   39              Virginia                                                 VA   40             Wisconsin                                            WI|Wis.   41         West Virginia                                           WV|W.Va.   42              Delaware                                            DE|Del.   43  District of Columbia                                            DC|D.C.   44              Maryland                                                 MD   45            New Jersey                                            NJ|N.J.   46              New York                                            NY|N.Y.   47          Pennsylvania                    Commonwealth of Pennsylvania|PA   48                 Maine                                           ME|Maine   49              Michigan                                           MI|Mich.   50                Alaska                                          AK|Alaska       ... FCLASS_ID FCLASS_PL FCLASS_GR FCLASS_IT FCLASS_NL FCLASS_SE FCLASS_BD  \\0   ...      None      None      None      None      None      None      None   1   ...      None      None      None      None      None      None      None   2   ...      None      None      None      None      None      None      None   3   ...      None      None      None      None      None      None      None   4   ...      None      None      None      None      None      None      None   5   ...      None      None      None      None      None      None      None   6   ...      None      None      None      None      None      None      None   7   ...      None      None      None      None      None      None      None   8   ...      None      None      None      None      None      None      None   9   ...      None      None      None      None      None      None      None   10  ...      None      None      None      None      None      None      None   11  ...      None      None      None      None      None      None      None   12  ...      None      None      None      None      None      None      None   13  ...      None      None      None      None      None      None      None   14  ...      None      None      None      None      None      None      None   15  ...      None      None      None      None      None      None      None   16  ...      None      None      None      None      None      None      None   17  ...      None      None      None      None      None      None      None   18  ...      None      None      None      None      None      None      None   19  ...      None      None      None      None      None      None      None   20  ...      None      None      None      None      None      None      None   21  ...      None      None      None      None      None      None      None   22  ...      None      None      None      None      None      None      None   23  ...      None      None      None      None      None      None      None   24  ...      None      None      None      None      None      None      None   25  ...      None      None      None      None      None      None      None   26  ...      None      None      None      None      None      None      None   27  ...      None      None      None      None      None      None      None   28  ...      None      None      None      None      None      None      None   29  ...      None      None      None      None      None      None      None   30  ...      None      None      None      None      None      None      None   31  ...      None      None      None      None      None      None      None   32  ...      None      None      None      None      None      None      None   33  ...      None      None      None      None      None      None      None   34  ...      None      None      None      None      None      None      None   35  ...      None      None      None      None      None      None      None   36  ...      None      None      None      None      None      None      None   37  ...      None      None      None      None      None      None      None   38  ...      None      None      None      None      None      None      None   39  ...      None      None      None      None      None      None      None   40  ...      None      None      None      None      None      None      None   41  ...      None      None      None      None      None      None      None   42  ...      None      None      None      None      None      None      None   43  ...      None      None      None      None      None      None      None   44  ...      None      None      None      None      None      None      None   45  ...      None      None      None      None      None      None      None   46  ...      None      None      None      None      None      None      None   47  ...      None      None      None      None      None      None      None   48  ...      None      None      None      None      None      None      None   49  ...      None      None      None      None      None      None      None   50  ...      None      None      None      None      None      None      None      FCLASS_UA FCLASS_TLC                                           geometry  0       None       None  POLYGON ((-89.95766 47.28691, -90.13175 47.292...  1       None       None  POLYGON ((-116.04823 49.00037, -113.0595 49.00...  2       None       None  POLYGON ((-97.22894 49.00089, -97.21414 48.902...  3       None       None  MULTIPOLYGON (((-155.93665 19.05939, -155.9080...  4       None       None  POLYGON ((-116.04823 49.00037, -115.9678 47.95...  5       None       None  POLYGON ((-117.03143 48.99931, -117.02665 47.7...  6       None       None  POLYGON ((-109.04522 36.99991, -109.04367 31.3...  7       None       None  POLYGON ((-114.64222 35.05311, -114.62212 34.9...  8       None       None  POLYGON ((-102.05017 40.00081, -102.04012 38.4...  9       None       None  POLYGON ((-117.02825 42.00002, -114.03422 41.9...  10      None       None  POLYGON ((-109.04367 31.3419, -109.04522 36.99...  11      None       None  POLYGON ((-116.915 45.99998, -116.679 45.80736...  12      None       None  POLYGON ((-114.03422 41.99312, -111.05024 42.0...  13      None       None  POLYGON ((-111.08518 44.50615, -111.06719 44.5...  14      None       None  POLYGON ((-89.66292 36.02307, -89.67351 35.94,...  15      None       None  POLYGON ((-96.45266 43.50179, -95.35994 43.500...  16      None       None  POLYGON ((-102.04118 36.99198, -102.04012 38.4...  17      None       None  POLYGON ((-89.66292 36.02307, -90.31539 36.023...  18      None       None  POLYGON ((-102.05017 40.00081, -102.05017 40.0...  19      None       None  POLYGON ((-103.00322 36.99516, -102.04118 36.9...  20      None       None  POLYGON ((-96.53945 46.01797, -96.55689 45.872...  21      None       None  POLYGON ((-94.05976 33.01212, -93.09403 33.010...  22      None       None  POLYGON ((-106.50734 31.75429, -106.61953 31.9...  23      None       None  POLYGON ((-73.49794 42.05451, -72.73222 42.035...  24      None       None  POLYGON ((-71.80091 42.01325, -72.73222 42.035...  25      None       None  POLYGON ((-70.81505 42.86519, -70.9336 42.8842...  26      None       None  POLYGON ((-71.85383 41.32004, -71.79295 41.466...  27      None       None  POLYGON ((-72.45707 42.72708, -73.28203 42.743...  28      None       None  POLYGON ((-88.16696 34.99967, -86.90968 34.999...  29      None       None  POLYGON ((-87.53039 30.2742, -87.45789 30.4112...  30      None       None  POLYGON ((-85.00519 30.99069, -85.05442 31.108...  31      None       None  POLYGON ((-91.15624 33.01, -91.10808 33.20684,...  32      None       None  POLYGON ((-80.86501 32.03316, -81.03644 32.084...  33      None       None  POLYGON ((-91.43033 40.3686, -91.41023 40.5511...  34      None       None  POLYGON ((-88.05108 37.8196, -88.01881 38.0217...  35      None       None  POLYGON ((-89.49836 36.5062, -89.27398 36.6115...  36      None       None  POLYGON ((-83.07637 34.97903, -84.32097 34.986...  37      None       None  POLYGON ((-84.82368 39.10653, -84.81787 39.799...  38      None       None  POLYGON ((-90.24924 35.02083, -90.13493 35.113...  39      None       None  MULTIPOLYGON (((-83.33059 36.67266, -83.17851 ...  40      None       None  POLYGON ((-91.2282 43.50125, -91.25466 43.6139...  41      None       None  POLYGON ((-81.97254 37.53595, -82.16728 37.554...  42      None       None  POLYGON ((-75.04839 38.44876, -75.71462 38.449...  43      None       None  POLYGON ((-77.04124 38.78954, -77.04123 38.789...  44      None       None  POLYGON ((-75.37754 38.01538, -75.37754 38.015...  45      None       None  POLYGON ((-75.52781 39.49865, -75.55427 39.691...  46      None       None  POLYGON ((-73.49794 42.05451, -73.55349 41.289...  47      None       None  POLYGON ((-80.51893 40.64111, -80.51627 42.324...  48      None       None  POLYGON ((-70.64573 43.09008, -70.75102 43.080...  49      None       None  POLYGON ((-89.95766 47.28691, -89.84283 47.464...  50      None       None  MULTIPOLYGON (((-153.22873 57.96897, -152.5647...  [51 rows x 122 columns]' does not exist in the file system, and is not recognized as a supported dataset name.",
     "output_type": "error",
     "traceback": [
      "\u001b[0;31m---------------------------------------------------------------------------\u001b[0m",
      "\u001b[0;31mDataSourceError\u001b[0m                           Traceback (most recent call last)",
      "Cell \u001b[0;32mIn[20], line 11\u001b[0m\n\u001b[1;32m      5\u001b[0m world \u001b[38;5;241m=\u001b[39m gpd\u001b[38;5;241m.\u001b[39mread_file(shapefile_path)\n\u001b[1;32m      8\u001b[0m \u001b[38;5;66;03m#world = gpd.read_file(gpd.datasets.get_path('naturalearth_lowres'))\u001b[39;00m\n\u001b[1;32m      9\u001b[0m \u001b[38;5;66;03m#cities = gpd.read_file(gpd.datasets.get_path('naturalearth_cities'))\u001b[39;00m\n\u001b[0;32m---> 11\u001b[0m gdf\u001b[38;5;241m=\u001b[39m \u001b[43mgpd\u001b[49m\u001b[38;5;241;43m.\u001b[39;49m\u001b[43mread_file\u001b[49m\u001b[43m(\u001b[49m\u001b[43mworld\u001b[49m\u001b[43m)\u001b[49m\n",
      "File \u001b[0;32m~/mambaforge/envs/econark/lib/python3.11/site-packages/geopandas/io/file.py:294\u001b[0m, in \u001b[0;36m_read_file\u001b[0;34m(filename, bbox, mask, columns, rows, engine, **kwargs)\u001b[0m\n\u001b[1;32m    291\u001b[0m             from_bytes \u001b[38;5;241m=\u001b[39m \u001b[38;5;28;01mTrue\u001b[39;00m\n\u001b[1;32m    293\u001b[0m \u001b[38;5;28;01mif\u001b[39;00m engine \u001b[38;5;241m==\u001b[39m \u001b[38;5;124m\"\u001b[39m\u001b[38;5;124mpyogrio\u001b[39m\u001b[38;5;124m\"\u001b[39m:\n\u001b[0;32m--> 294\u001b[0m     \u001b[38;5;28;01mreturn\u001b[39;00m \u001b[43m_read_file_pyogrio\u001b[49m\u001b[43m(\u001b[49m\n\u001b[1;32m    295\u001b[0m \u001b[43m        \u001b[49m\u001b[43mfilename\u001b[49m\u001b[43m,\u001b[49m\u001b[43m \u001b[49m\u001b[43mbbox\u001b[49m\u001b[38;5;241;43m=\u001b[39;49m\u001b[43mbbox\u001b[49m\u001b[43m,\u001b[49m\u001b[43m \u001b[49m\u001b[43mmask\u001b[49m\u001b[38;5;241;43m=\u001b[39;49m\u001b[43mmask\u001b[49m\u001b[43m,\u001b[49m\u001b[43m \u001b[49m\u001b[43mcolumns\u001b[49m\u001b[38;5;241;43m=\u001b[39;49m\u001b[43mcolumns\u001b[49m\u001b[43m,\u001b[49m\u001b[43m \u001b[49m\u001b[43mrows\u001b[49m\u001b[38;5;241;43m=\u001b[39;49m\u001b[43mrows\u001b[49m\u001b[43m,\u001b[49m\u001b[43m \u001b[49m\u001b[38;5;241;43m*\u001b[39;49m\u001b[38;5;241;43m*\u001b[39;49m\u001b[43mkwargs\u001b[49m\n\u001b[1;32m    296\u001b[0m \u001b[43m    \u001b[49m\u001b[43m)\u001b[49m\n\u001b[1;32m    298\u001b[0m \u001b[38;5;28;01melif\u001b[39;00m engine \u001b[38;5;241m==\u001b[39m \u001b[38;5;124m\"\u001b[39m\u001b[38;5;124mfiona\u001b[39m\u001b[38;5;124m\"\u001b[39m:\n\u001b[1;32m    299\u001b[0m     \u001b[38;5;28;01mif\u001b[39;00m pd\u001b[38;5;241m.\u001b[39mapi\u001b[38;5;241m.\u001b[39mtypes\u001b[38;5;241m.\u001b[39mis_file_like(filename):\n",
      "File \u001b[0;32m~/mambaforge/envs/econark/lib/python3.11/site-packages/geopandas/io/file.py:547\u001b[0m, in \u001b[0;36m_read_file_pyogrio\u001b[0;34m(path_or_bytes, bbox, mask, rows, **kwargs)\u001b[0m\n\u001b[1;32m    538\u001b[0m     warnings\u001b[38;5;241m.\u001b[39mwarn(\n\u001b[1;32m    539\u001b[0m         \u001b[38;5;124m\"\u001b[39m\u001b[38;5;124mThe \u001b[39m\u001b[38;5;124m'\u001b[39m\u001b[38;5;124minclude_fields\u001b[39m\u001b[38;5;124m'\u001b[39m\u001b[38;5;124m and \u001b[39m\u001b[38;5;124m'\u001b[39m\u001b[38;5;124mignore_fields\u001b[39m\u001b[38;5;124m'\u001b[39m\u001b[38;5;124m keywords are deprecated, and \u001b[39m\u001b[38;5;124m\"\u001b[39m\n\u001b[1;32m    540\u001b[0m         \u001b[38;5;124m\"\u001b[39m\u001b[38;5;124mwill be removed in a future release. You can use the \u001b[39m\u001b[38;5;124m'\u001b[39m\u001b[38;5;124mcolumns\u001b[39m\u001b[38;5;124m'\u001b[39m\u001b[38;5;124m keyword \u001b[39m\u001b[38;5;124m\"\u001b[39m\n\u001b[0;32m   (...)\u001b[0m\n\u001b[1;32m    543\u001b[0m         stacklevel\u001b[38;5;241m=\u001b[39m\u001b[38;5;241m3\u001b[39m,\n\u001b[1;32m    544\u001b[0m     )\n\u001b[1;32m    545\u001b[0m     kwargs[\u001b[38;5;124m\"\u001b[39m\u001b[38;5;124mcolumns\u001b[39m\u001b[38;5;124m\"\u001b[39m] \u001b[38;5;241m=\u001b[39m kwargs\u001b[38;5;241m.\u001b[39mpop(\u001b[38;5;124m\"\u001b[39m\u001b[38;5;124minclude_fields\u001b[39m\u001b[38;5;124m\"\u001b[39m)\n\u001b[0;32m--> 547\u001b[0m \u001b[38;5;28;01mreturn\u001b[39;00m \u001b[43mpyogrio\u001b[49m\u001b[38;5;241;43m.\u001b[39;49m\u001b[43mread_dataframe\u001b[49m\u001b[43m(\u001b[49m\u001b[43mpath_or_bytes\u001b[49m\u001b[43m,\u001b[49m\u001b[43m \u001b[49m\u001b[43mbbox\u001b[49m\u001b[38;5;241;43m=\u001b[39;49m\u001b[43mbbox\u001b[49m\u001b[43m,\u001b[49m\u001b[43m \u001b[49m\u001b[38;5;241;43m*\u001b[39;49m\u001b[38;5;241;43m*\u001b[39;49m\u001b[43mkwargs\u001b[49m\u001b[43m)\u001b[49m\n",
      "File \u001b[0;32m~/mambaforge/envs/econark/lib/python3.11/site-packages/pyogrio/geopandas.py:265\u001b[0m, in \u001b[0;36mread_dataframe\u001b[0;34m(path_or_buffer, layer, encoding, columns, read_geometry, force_2d, skip_features, max_features, where, bbox, mask, fids, sql, sql_dialect, fid_as_index, use_arrow, on_invalid, arrow_to_pandas_kwargs, **kwargs)\u001b[0m\n\u001b[1;32m    260\u001b[0m \u001b[38;5;28;01mif\u001b[39;00m \u001b[38;5;129;01mnot\u001b[39;00m use_arrow:\n\u001b[1;32m    261\u001b[0m     \u001b[38;5;66;03m# For arrow, datetimes are read as is.\u001b[39;00m\n\u001b[1;32m    262\u001b[0m     \u001b[38;5;66;03m# For numpy IO, datetimes are read as string values to preserve timezone info\u001b[39;00m\n\u001b[1;32m    263\u001b[0m     \u001b[38;5;66;03m# as numpy does not directly support timezones.\u001b[39;00m\n\u001b[1;32m    264\u001b[0m     kwargs[\u001b[38;5;124m\"\u001b[39m\u001b[38;5;124mdatetime_as_string\u001b[39m\u001b[38;5;124m\"\u001b[39m] \u001b[38;5;241m=\u001b[39m \u001b[38;5;28;01mTrue\u001b[39;00m\n\u001b[0;32m--> 265\u001b[0m result \u001b[38;5;241m=\u001b[39m \u001b[43mread_func\u001b[49m\u001b[43m(\u001b[49m\n\u001b[1;32m    266\u001b[0m \u001b[43m    \u001b[49m\u001b[43mpath_or_buffer\u001b[49m\u001b[43m,\u001b[49m\n\u001b[1;32m    267\u001b[0m \u001b[43m    \u001b[49m\u001b[43mlayer\u001b[49m\u001b[38;5;241;43m=\u001b[39;49m\u001b[43mlayer\u001b[49m\u001b[43m,\u001b[49m\n\u001b[1;32m    268\u001b[0m \u001b[43m    \u001b[49m\u001b[43mencoding\u001b[49m\u001b[38;5;241;43m=\u001b[39;49m\u001b[43mencoding\u001b[49m\u001b[43m,\u001b[49m\n\u001b[1;32m    269\u001b[0m \u001b[43m    \u001b[49m\u001b[43mcolumns\u001b[49m\u001b[38;5;241;43m=\u001b[39;49m\u001b[43mcolumns\u001b[49m\u001b[43m,\u001b[49m\n\u001b[1;32m    270\u001b[0m \u001b[43m    \u001b[49m\u001b[43mread_geometry\u001b[49m\u001b[38;5;241;43m=\u001b[39;49m\u001b[43mread_geometry\u001b[49m\u001b[43m,\u001b[49m\n\u001b[1;32m    271\u001b[0m \u001b[43m    \u001b[49m\u001b[43mforce_2d\u001b[49m\u001b[38;5;241;43m=\u001b[39;49m\u001b[43mgdal_force_2d\u001b[49m\u001b[43m,\u001b[49m\n\u001b[1;32m    272\u001b[0m \u001b[43m    \u001b[49m\u001b[43mskip_features\u001b[49m\u001b[38;5;241;43m=\u001b[39;49m\u001b[43mskip_features\u001b[49m\u001b[43m,\u001b[49m\n\u001b[1;32m    273\u001b[0m \u001b[43m    \u001b[49m\u001b[43mmax_features\u001b[49m\u001b[38;5;241;43m=\u001b[39;49m\u001b[43mmax_features\u001b[49m\u001b[43m,\u001b[49m\n\u001b[1;32m    274\u001b[0m \u001b[43m    \u001b[49m\u001b[43mwhere\u001b[49m\u001b[38;5;241;43m=\u001b[39;49m\u001b[43mwhere\u001b[49m\u001b[43m,\u001b[49m\n\u001b[1;32m    275\u001b[0m \u001b[43m    \u001b[49m\u001b[43mbbox\u001b[49m\u001b[38;5;241;43m=\u001b[39;49m\u001b[43mbbox\u001b[49m\u001b[43m,\u001b[49m\n\u001b[1;32m    276\u001b[0m \u001b[43m    \u001b[49m\u001b[43mmask\u001b[49m\u001b[38;5;241;43m=\u001b[39;49m\u001b[43mmask\u001b[49m\u001b[43m,\u001b[49m\n\u001b[1;32m    277\u001b[0m \u001b[43m    \u001b[49m\u001b[43mfids\u001b[49m\u001b[38;5;241;43m=\u001b[39;49m\u001b[43mfids\u001b[49m\u001b[43m,\u001b[49m\n\u001b[1;32m    278\u001b[0m \u001b[43m    \u001b[49m\u001b[43msql\u001b[49m\u001b[38;5;241;43m=\u001b[39;49m\u001b[43msql\u001b[49m\u001b[43m,\u001b[49m\n\u001b[1;32m    279\u001b[0m \u001b[43m    \u001b[49m\u001b[43msql_dialect\u001b[49m\u001b[38;5;241;43m=\u001b[39;49m\u001b[43msql_dialect\u001b[49m\u001b[43m,\u001b[49m\n\u001b[1;32m    280\u001b[0m \u001b[43m    \u001b[49m\u001b[43mreturn_fids\u001b[49m\u001b[38;5;241;43m=\u001b[39;49m\u001b[43mfid_as_index\u001b[49m\u001b[43m,\u001b[49m\n\u001b[1;32m    281\u001b[0m \u001b[43m    \u001b[49m\u001b[38;5;241;43m*\u001b[39;49m\u001b[38;5;241;43m*\u001b[39;49m\u001b[43mkwargs\u001b[49m\u001b[43m,\u001b[49m\n\u001b[1;32m    282\u001b[0m \u001b[43m\u001b[49m\u001b[43m)\u001b[49m\n\u001b[1;32m    284\u001b[0m \u001b[38;5;28;01mif\u001b[39;00m use_arrow:\n\u001b[1;32m    285\u001b[0m     meta, table \u001b[38;5;241m=\u001b[39m result\n",
      "File \u001b[0;32m~/mambaforge/envs/econark/lib/python3.11/site-packages/pyogrio/raw.py:198\u001b[0m, in \u001b[0;36mread\u001b[0;34m(path_or_buffer, layer, encoding, columns, read_geometry, force_2d, skip_features, max_features, where, bbox, mask, fids, sql, sql_dialect, return_fids, datetime_as_string, **kwargs)\u001b[0m\n\u001b[1;32m     59\u001b[0m \u001b[38;5;250m\u001b[39m\u001b[38;5;124;03m\"\"\"Read OGR data source into numpy arrays.\u001b[39;00m\n\u001b[1;32m     60\u001b[0m \n\u001b[1;32m     61\u001b[0m \u001b[38;5;124;03mIMPORTANT: non-linear geometry types (e.g., MultiSurface) are converted\u001b[39;00m\n\u001b[0;32m   (...)\u001b[0m\n\u001b[1;32m    194\u001b[0m \n\u001b[1;32m    195\u001b[0m \u001b[38;5;124;03m\"\"\"\u001b[39;00m\n\u001b[1;32m    196\u001b[0m dataset_kwargs \u001b[38;5;241m=\u001b[39m _preprocess_options_key_value(kwargs) \u001b[38;5;28;01mif\u001b[39;00m kwargs \u001b[38;5;28;01melse\u001b[39;00m {}\n\u001b[0;32m--> 198\u001b[0m \u001b[38;5;28;01mreturn\u001b[39;00m \u001b[43mogr_read\u001b[49m\u001b[43m(\u001b[49m\n\u001b[1;32m    199\u001b[0m \u001b[43m    \u001b[49m\u001b[43mget_vsi_path_or_buffer\u001b[49m\u001b[43m(\u001b[49m\u001b[43mpath_or_buffer\u001b[49m\u001b[43m)\u001b[49m\u001b[43m,\u001b[49m\n\u001b[1;32m    200\u001b[0m \u001b[43m    \u001b[49m\u001b[43mlayer\u001b[49m\u001b[38;5;241;43m=\u001b[39;49m\u001b[43mlayer\u001b[49m\u001b[43m,\u001b[49m\n\u001b[1;32m    201\u001b[0m \u001b[43m    \u001b[49m\u001b[43mencoding\u001b[49m\u001b[38;5;241;43m=\u001b[39;49m\u001b[43mencoding\u001b[49m\u001b[43m,\u001b[49m\n\u001b[1;32m    202\u001b[0m \u001b[43m    \u001b[49m\u001b[43mcolumns\u001b[49m\u001b[38;5;241;43m=\u001b[39;49m\u001b[43mcolumns\u001b[49m\u001b[43m,\u001b[49m\n\u001b[1;32m    203\u001b[0m \u001b[43m    \u001b[49m\u001b[43mread_geometry\u001b[49m\u001b[38;5;241;43m=\u001b[39;49m\u001b[43mread_geometry\u001b[49m\u001b[43m,\u001b[49m\n\u001b[1;32m    204\u001b[0m \u001b[43m    \u001b[49m\u001b[43mforce_2d\u001b[49m\u001b[38;5;241;43m=\u001b[39;49m\u001b[43mforce_2d\u001b[49m\u001b[43m,\u001b[49m\n\u001b[1;32m    205\u001b[0m \u001b[43m    \u001b[49m\u001b[43mskip_features\u001b[49m\u001b[38;5;241;43m=\u001b[39;49m\u001b[43mskip_features\u001b[49m\u001b[43m,\u001b[49m\n\u001b[1;32m    206\u001b[0m \u001b[43m    \u001b[49m\u001b[43mmax_features\u001b[49m\u001b[38;5;241;43m=\u001b[39;49m\u001b[43mmax_features\u001b[49m\u001b[43m \u001b[49m\u001b[38;5;129;43;01mor\u001b[39;49;00m\u001b[43m \u001b[49m\u001b[38;5;241;43m0\u001b[39;49m\u001b[43m,\u001b[49m\n\u001b[1;32m    207\u001b[0m \u001b[43m    \u001b[49m\u001b[43mwhere\u001b[49m\u001b[38;5;241;43m=\u001b[39;49m\u001b[43mwhere\u001b[49m\u001b[43m,\u001b[49m\n\u001b[1;32m    208\u001b[0m \u001b[43m    \u001b[49m\u001b[43mbbox\u001b[49m\u001b[38;5;241;43m=\u001b[39;49m\u001b[43mbbox\u001b[49m\u001b[43m,\u001b[49m\n\u001b[1;32m    209\u001b[0m \u001b[43m    \u001b[49m\u001b[43mmask\u001b[49m\u001b[38;5;241;43m=\u001b[39;49m\u001b[43m_mask_to_wkb\u001b[49m\u001b[43m(\u001b[49m\u001b[43mmask\u001b[49m\u001b[43m)\u001b[49m\u001b[43m,\u001b[49m\n\u001b[1;32m    210\u001b[0m \u001b[43m    \u001b[49m\u001b[43mfids\u001b[49m\u001b[38;5;241;43m=\u001b[39;49m\u001b[43mfids\u001b[49m\u001b[43m,\u001b[49m\n\u001b[1;32m    211\u001b[0m \u001b[43m    \u001b[49m\u001b[43msql\u001b[49m\u001b[38;5;241;43m=\u001b[39;49m\u001b[43msql\u001b[49m\u001b[43m,\u001b[49m\n\u001b[1;32m    212\u001b[0m \u001b[43m    \u001b[49m\u001b[43msql_dialect\u001b[49m\u001b[38;5;241;43m=\u001b[39;49m\u001b[43msql_dialect\u001b[49m\u001b[43m,\u001b[49m\n\u001b[1;32m    213\u001b[0m \u001b[43m    \u001b[49m\u001b[43mreturn_fids\u001b[49m\u001b[38;5;241;43m=\u001b[39;49m\u001b[43mreturn_fids\u001b[49m\u001b[43m,\u001b[49m\n\u001b[1;32m    214\u001b[0m \u001b[43m    \u001b[49m\u001b[43mdataset_kwargs\u001b[49m\u001b[38;5;241;43m=\u001b[39;49m\u001b[43mdataset_kwargs\u001b[49m\u001b[43m,\u001b[49m\n\u001b[1;32m    215\u001b[0m \u001b[43m    \u001b[49m\u001b[43mdatetime_as_string\u001b[49m\u001b[38;5;241;43m=\u001b[39;49m\u001b[43mdatetime_as_string\u001b[49m\u001b[43m,\u001b[49m\n\u001b[1;32m    216\u001b[0m \u001b[43m\u001b[49m\u001b[43m)\u001b[49m\n",
      "File \u001b[0;32mpyogrio/_io.pyx:1240\u001b[0m, in \u001b[0;36mpyogrio._io.ogr_read\u001b[0;34m()\u001b[0m\n",
      "File \u001b[0;32mpyogrio/_io.pyx:220\u001b[0m, in \u001b[0;36mpyogrio._io.ogr_open\u001b[0;34m()\u001b[0m\n",
      "\u001b[0;31mDataSourceError\u001b[0m: 'featurecla  scalerank adm1_code  diss_me iso_3166_2  \\0   Admin-1 scale rank          2  USA-3514     3514      US-MN   1   Admin-1 scale rank          2  USA-3515     3515      US-MT   2   Admin-1 scale rank          2  USA-3516     3516      US-ND   3   Admin-1 scale rank          2  USA-3517     3517      US-HI   4   Admin-1 scale rank          2  USA-3518     3518      US-ID   5   Admin-1 scale rank          2  USA-3519     3519      US-WA   6   Admin-1 scale rank          2  USA-3520     3520      US-AZ   7   Admin-1 scale rank          2  USA-3521     3521      US-CA   8   Admin-1 scale rank          2  USA-3522     3522      US-CO   9   Admin-1 scale rank          2  USA-3523     3523      US-NV   10  Admin-1 scale rank          2  USA-3524     3524      US-NM   11  Admin-1 scale rank          2  USA-3525     3525      US-OR   12  Admin-1 scale rank          2  USA-3526     3526      US-UT   13  Admin-1 scale rank          2  USA-3527     3527      US-WY   14  Admin-1 scale rank          2  USA-3528     3528      US-AR   15  Admin-1 scale rank          2  USA-3529     3529      US-IA   16  Admin-1 scale rank          2  USA-3530     3530      US-KS   17  Admin-1 scale rank          2  USA-3531     3531      US-MO   18  Admin-1 scale rank          2  USA-3532     3532      US-NE   19  Admin-1 scale rank          2  USA-3533     3533      US-OK   20  Admin-1 scale rank          2  USA-3534     3534      US-SD   21  Admin-1 scale rank          2  USA-3535     3535      US-LA   22  Admin-1 scale rank          2  USA-3536     3536      US-TX   23  Admin-1 scale rank          2  USA-3537     3537      US-CT   24  Admin-1 scale rank          2  USA-3513     3513      US-MA   25  Admin-1 scale rank          2  USA-3538     3538      US-NH   26  Admin-1 scale rank          2  USA-3539     3539      US-RI   27  Admin-1 scale rank          2  USA-3540     3540      US-VT   28  Admin-1 scale rank          2  USA-3541     3541      US-AL   29  Admin-1 scale rank          2  USA-3542     3542      US-FL   30  Admin-1 scale rank          2  USA-3543     3543      US-GA   31  Admin-1 scale rank          2  USA-3544     3544      US-MS   32  Admin-1 scale rank          2  USA-3545     3545      US-SC   33  Admin-1 scale rank          2  USA-3546     3546      US-IL   34  Admin-1 scale rank          2  USA-3547     3547      US-IN   35  Admin-1 scale rank          2  USA-3548     3548      US-KY   36  Admin-1 scale rank          2  USA-3549     3549      US-NC   37  Admin-1 scale rank          2  USA-3550     3550      US-OH   38  Admin-1 scale rank          2  USA-3551     3551      US-TN   39  Admin-1 scale rank          2  USA-3552     3552      US-VA   40  Admin-1 scale rank          2  USA-3553     3553      US-WI   41  Admin-1 scale rank          2  USA-3554     3554      US-WV   42  Admin-1 scale rank          2  USA-3555     3555      US-DE   43  Admin-1 scale rank          2  USA-3556     3556      US-DC   44  Admin-1 scale rank          2  USA-3557     3557      US-MD   45  Admin-1 scale rank          2  USA-3558     3558      US-NJ   46  Admin-1 scale rank          2  USA-3559     3559      US-NY   47  Admin-1 scale rank          2  USA-3560     3560      US-PA   48  Admin-1 scale rank          2  USA-3561     3561      US-ME   49  Admin-1 scale rank          2  USA-3562     3562      US-MI   50  Admin-1 scale rank          2  USA-3563     3563      US-AK                                               wikipedia iso_a2  adm0_sr  \\0              http://en.wikipedia.org/wiki/Minnesota     US        1   1                http://en.wikipedia.org/wiki/Montana     US        1   2           http://en.wikipedia.org/wiki/North_Dakota     US        1   3                 http://en.wikipedia.org/wiki/Hawaii     US        8   4                  http://en.wikipedia.org/wiki/Idaho     US        1   5     http://en.wikipedia.org/wiki/Washington_(state)     US        6   6                http://en.wikipedia.org/wiki/Arizona     US        1   7             http://en.wikipedia.org/wiki/California     US        8   8               http://en.wikipedia.org/wiki/Colorado     US        1   9                 http://en.wikipedia.org/wiki/Nevada     US        1   10            http://en.wikipedia.org/wiki/New_Mexico     US        1   11                http://en.wikipedia.org/wiki/Oregon     US        6   12                  http://en.wikipedia.org/wiki/Utah     US        1   13               http://en.wikipedia.org/wiki/Wyoming     US        1   14              http://en.wikipedia.org/wiki/Arkansas     US        1   15                  http://en.wikipedia.org/wiki/Iowa     US        1   16                http://en.wikipedia.org/wiki/Kansas     US        1   17              http://en.wikipedia.org/wiki/Missouri     US        1   18              http://en.wikipedia.org/wiki/Nebraska     US        1   19              http://en.wikipedia.org/wiki/Oklahoma     US        1   20          http://en.wikipedia.org/wiki/South_Dakota     US        1   21             http://en.wikipedia.org/wiki/Louisiana     US        5   22                 http://en.wikipedia.org/wiki/Texas     US        4   23           http://en.wikipedia.org/wiki/Connecticut     US        1   24         http://en.wikipedia.org/wiki/Massachusetts     US        6   25         http://en.wikipedia.org/wiki/New_Hampshire     US        1   26          http://en.wikipedia.org/wiki/Rhode_Island     US        6   27               http://en.wikipedia.org/wiki/Vermont     US        1   28               http://en.wikipedia.org/wiki/Alabama     US        5   29               http://en.wikipedia.org/wiki/Florida     US        5   30  http://en.wikipedia.org/wiki/Georgia_(U.S._state)     US        6   31           http://en.wikipedia.org/wiki/Mississippi     US        5   32        http://en.wikipedia.org/wiki/South_Carolina     US        1   33              http://en.wikipedia.org/wiki/Illinois     US        1   34               http://en.wikipedia.org/wiki/Indiana     US        1   35              http://en.wikipedia.org/wiki/Kentucky     US        1   36        http://en.wikipedia.org/wiki/North_Carolina     US        5   37                  http://en.wikipedia.org/wiki/Ohio     US        1   38             http://en.wikipedia.org/wiki/Tennessee     US        1   39              http://en.wikipedia.org/wiki/Virginia     US        6   40             http://en.wikipedia.org/wiki/Wisconsin     US        1   41         http://en.wikipedia.org/wiki/West_Virginia     US        1   42              http://en.wikipedia.org/wiki/Delaware     US        1   43      http://en.wikipedia.org/wiki/Washington,_D.C.     US        1   44              http://en.wikipedia.org/wiki/Maryland     US        1   45            http://en.wikipedia.org/wiki/New_Jersey     US        5   46              http://en.wikipedia.org/wiki/New_York     US        3   47          http://en.wikipedia.org/wiki/Pennsylvania     US        1   48                 http://en.wikipedia.org/wiki/Maine     US        6   49              http://en.wikipedia.org/wiki/Michigan     US        1   50                http://en.wikipedia.org/wiki/Alaska     US        6                       name                                           name_alt  \\0              Minnesota                                           MN|Minn.   1                Montana                                           MT|Mont.   2           North Dakota                                            ND|N.D.   3                 Hawaii                                          HI|Hawaii   4                  Idaho                                           ID|Idaho   5             Washington                                           WA|Wash.   6                Arizona                                           AZ|Ariz.   7             California                                          CA|Calif.   8               Colorado                                           CO|Colo.   9                 Nevada                                            NV|Nev.   10            New Mexico                                            NM|N.M.   11                Oregon                                            OR|Ore.   12                  Utah                                                 UT   13               Wyoming                                            WY|Wyo.   14              Arkansas                                            AR|Ark.   15                  Iowa                                            IA|Iowa   16                Kansas                                           KS|Kans.   17              Missouri                                                 MO   18              Nebraska                                           NE|Nebr.   19              Oklahoma                                           OK|Okla.   20          South Dakota                                            SD|S.D.   21             Louisiana                                                 LA   22                 Texas                                            TX|Tex.   23           Connecticut                                           CT|Conn.   24         Massachusetts             Commonwealth of Massachusetts|MA|Mass.   25         New Hampshire                                            NH|N.H.   26          Rhode Island  State of Rhode Island and Providence Plantatio...   27               Vermont                                                 VT   28               Alabama                                            AL|Ala.   29               Florida                                            FL|Fla.   30               Georgia                                             GA|Ga.   31           Mississippi                                           MS|Miss.   32        South Carolina                                            SC|S.C.   33              Illinois                                            IL|Ill.   34               Indiana                                            IN|Ind.   35              Kentucky                        Commonwealth of Kentucky|KY   36        North Carolina                                            NC|N.C.   37                  Ohio                                            OH|Ohio   38             Tennessee                                           TN|Tenn.   39              Virginia                                                 VA   40             Wisconsin                                            WI|Wis.   41         West Virginia                                           WV|W.Va.   42              Delaware                                            DE|Del.   43  District of Columbia                                            DC|D.C.   44              Maryland                                                 MD   45            New Jersey                                            NJ|N.J.   46              New York                                            NY|N.Y.   47          Pennsylvania                    Commonwealth of Pennsylvania|PA   48                 Maine                                           ME|Maine   49              Michigan                                           MI|Mich.   50                Alaska                                          AK|Alaska       ... FCLASS_ID FCLASS_PL FCLASS_GR FCLASS_IT FCLASS_NL FCLASS_SE FCLASS_BD  \\0   ...      None      None      None      None      None      None      None   1   ...      None      None      None      None      None      None      None   2   ...      None      None      None      None      None      None      None   3   ...      None      None      None      None      None      None      None   4   ...      None      None      None      None      None      None      None   5   ...      None      None      None      None      None      None      None   6   ...      None      None      None      None      None      None      None   7   ...      None      None      None      None      None      None      None   8   ...      None      None      None      None      None      None      None   9   ...      None      None      None      None      None      None      None   10  ...      None      None      None      None      None      None      None   11  ...      None      None      None      None      None      None      None   12  ...      None      None      None      None      None      None      None   13  ...      None      None      None      None      None      None      None   14  ...      None      None      None      None      None      None      None   15  ...      None      None      None      None      None      None      None   16  ...      None      None      None      None      None      None      None   17  ...      None      None      None      None      None      None      None   18  ...      None      None      None      None      None      None      None   19  ...      None      None      None      None      None      None      None   20  ...      None      None      None      None      None      None      None   21  ...      None      None      None      None      None      None      None   22  ...      None      None      None      None      None      None      None   23  ...      None      None      None      None      None      None      None   24  ...      None      None      None      None      None      None      None   25  ...      None      None      None      None      None      None      None   26  ...      None      None      None      None      None      None      None   27  ...      None      None      None      None      None      None      None   28  ...      None      None      None      None      None      None      None   29  ...      None      None      None      None      None      None      None   30  ...      None      None      None      None      None      None      None   31  ...      None      None      None      None      None      None      None   32  ...      None      None      None      None      None      None      None   33  ...      None      None      None      None      None      None      None   34  ...      None      None      None      None      None      None      None   35  ...      None      None      None      None      None      None      None   36  ...      None      None      None      None      None      None      None   37  ...      None      None      None      None      None      None      None   38  ...      None      None      None      None      None      None      None   39  ...      None      None      None      None      None      None      None   40  ...      None      None      None      None      None      None      None   41  ...      None      None      None      None      None      None      None   42  ...      None      None      None      None      None      None      None   43  ...      None      None      None      None      None      None      None   44  ...      None      None      None      None      None      None      None   45  ...      None      None      None      None      None      None      None   46  ...      None      None      None      None      None      None      None   47  ...      None      None      None      None      None      None      None   48  ...      None      None      None      None      None      None      None   49  ...      None      None      None      None      None      None      None   50  ...      None      None      None      None      None      None      None      FCLASS_UA FCLASS_TLC                                           geometry  0       None       None  POLYGON ((-89.95766 47.28691, -90.13175 47.292...  1       None       None  POLYGON ((-116.04823 49.00037, -113.0595 49.00...  2       None       None  POLYGON ((-97.22894 49.00089, -97.21414 48.902...  3       None       None  MULTIPOLYGON (((-155.93665 19.05939, -155.9080...  4       None       None  POLYGON ((-116.04823 49.00037, -115.9678 47.95...  5       None       None  POLYGON ((-117.03143 48.99931, -117.02665 47.7...  6       None       None  POLYGON ((-109.04522 36.99991, -109.04367 31.3...  7       None       None  POLYGON ((-114.64222 35.05311, -114.62212 34.9...  8       None       None  POLYGON ((-102.05017 40.00081, -102.04012 38.4...  9       None       None  POLYGON ((-117.02825 42.00002, -114.03422 41.9...  10      None       None  POLYGON ((-109.04367 31.3419, -109.04522 36.99...  11      None       None  POLYGON ((-116.915 45.99998, -116.679 45.80736...  12      None       None  POLYGON ((-114.03422 41.99312, -111.05024 42.0...  13      None       None  POLYGON ((-111.08518 44.50615, -111.06719 44.5...  14      None       None  POLYGON ((-89.66292 36.02307, -89.67351 35.94,...  15      None       None  POLYGON ((-96.45266 43.50179, -95.35994 43.500...  16      None       None  POLYGON ((-102.04118 36.99198, -102.04012 38.4...  17      None       None  POLYGON ((-89.66292 36.02307, -90.31539 36.023...  18      None       None  POLYGON ((-102.05017 40.00081, -102.05017 40.0...  19      None       None  POLYGON ((-103.00322 36.99516, -102.04118 36.9...  20      None       None  POLYGON ((-96.53945 46.01797, -96.55689 45.872...  21      None       None  POLYGON ((-94.05976 33.01212, -93.09403 33.010...  22      None       None  POLYGON ((-106.50734 31.75429, -106.61953 31.9...  23      None       None  POLYGON ((-73.49794 42.05451, -72.73222 42.035...  24      None       None  POLYGON ((-71.80091 42.01325, -72.73222 42.035...  25      None       None  POLYGON ((-70.81505 42.86519, -70.9336 42.8842...  26      None       None  POLYGON ((-71.85383 41.32004, -71.79295 41.466...  27      None       None  POLYGON ((-72.45707 42.72708, -73.28203 42.743...  28      None       None  POLYGON ((-88.16696 34.99967, -86.90968 34.999...  29      None       None  POLYGON ((-87.53039 30.2742, -87.45789 30.4112...  30      None       None  POLYGON ((-85.00519 30.99069, -85.05442 31.108...  31      None       None  POLYGON ((-91.15624 33.01, -91.10808 33.20684,...  32      None       None  POLYGON ((-80.86501 32.03316, -81.03644 32.084...  33      None       None  POLYGON ((-91.43033 40.3686, -91.41023 40.5511...  34      None       None  POLYGON ((-88.05108 37.8196, -88.01881 38.0217...  35      None       None  POLYGON ((-89.49836 36.5062, -89.27398 36.6115...  36      None       None  POLYGON ((-83.07637 34.97903, -84.32097 34.986...  37      None       None  POLYGON ((-84.82368 39.10653, -84.81787 39.799...  38      None       None  POLYGON ((-90.24924 35.02083, -90.13493 35.113...  39      None       None  MULTIPOLYGON (((-83.33059 36.67266, -83.17851 ...  40      None       None  POLYGON ((-91.2282 43.50125, -91.25466 43.6139...  41      None       None  POLYGON ((-81.97254 37.53595, -82.16728 37.554...  42      None       None  POLYGON ((-75.04839 38.44876, -75.71462 38.449...  43      None       None  POLYGON ((-77.04124 38.78954, -77.04123 38.789...  44      None       None  POLYGON ((-75.37754 38.01538, -75.37754 38.015...  45      None       None  POLYGON ((-75.52781 39.49865, -75.55427 39.691...  46      None       None  POLYGON ((-73.49794 42.05451, -73.55349 41.289...  47      None       None  POLYGON ((-80.51893 40.64111, -80.51627 42.324...  48      None       None  POLYGON ((-70.64573 43.09008, -70.75102 43.080...  49      None       None  POLYGON ((-89.95766 47.28691, -89.84283 47.464...  50      None       None  MULTIPOLYGON (((-153.22873 57.96897, -152.5647...  [51 rows x 122 columns]' does not exist in the file system, and is not recognized as a supported dataset name."
     ]
    }
   ],
   "source": [
    "path= os.getcwd()\n",
    "\n",
    "\n",
    "shapefile_path = path + '/Shape File/ne_110m_admin_1_states_provinces.shp'\n",
    "world = gpd.read_file(shapefile_path)\n",
    "\n",
    "\n",
    "#world = gpd.read_file(gpd.datasets.get_path('naturalearth_lowres'))\n",
    "#cities = gpd.read_file(gpd.datasets.get_path('naturalearth_cities'))\n",
    "\n",
    "gdf= gpd.read_file(world)"
   ]
  },
  {
   "cell_type": "code",
   "execution_count": null,
   "id": "4987da1f-8ec6-47d0-9ece-eedbbbb617bd",
   "metadata": {},
   "outputs": [],
   "source": [
    "buffered_gdf= gdf.buffer(1000)"
   ]
  },
  {
   "cell_type": "code",
   "execution_count": null,
   "id": "ec826b78-c192-4052-a491-8c287e9b3f4c",
   "metadata": {},
   "outputs": [],
   "source": [
    "joined_gdf= gpd.sjoin(gdf1, gdf2, how= 'inner', op= 'intersects')"
   ]
  },
  {
   "cell_type": "code",
   "execution_count": null,
   "id": "0c1cb478-a81f-4be7-b337-1b74f7002edc",
   "metadata": {},
   "outputs": [],
   "source": [
    "gdf.plot()\n",
    "plt.show()"
   ]
  },
  {
   "cell_type": "code",
   "execution_count": 3,
   "id": "110984df-ea64-43ee-8bb1-e972cee5623b",
   "metadata": {},
   "outputs": [
    {
     "ename": "NameError",
     "evalue": "name 'gdf' is not defined",
     "output_type": "error",
     "traceback": [
      "\u001b[0;31m---------------------------------------------------------------------------\u001b[0m",
      "\u001b[0;31mNameError\u001b[0m                                 Traceback (most recent call last)",
      "Cell \u001b[0;32mIn[3], line 1\u001b[0m\n\u001b[0;32m----> 1\u001b[0m gdf[\u001b[38;5;124m'\u001b[39m\u001b[38;5;124mgeometry\u001b[39m\u001b[38;5;124m'\u001b[39m]\u001b[38;5;241m=\u001b[39m \u001b[43mgdf\u001b[49m\u001b[38;5;241m.\u001b[39mapply(\u001b[38;5;28;01mlambda\u001b[39;00m row: Point(row[\u001b[38;5;124m'\u001b[39m\u001b[38;5;124mlongitude\u001b[39m\u001b[38;5;124m'\u001b[39m], row[\u001b[38;5;124m'\u001b[39m\u001b[38;5;124mlatitude\u001b[39m\u001b[38;5;124m'\u001b[39m]), axis\u001b[38;5;241m=\u001b[39m \u001b[38;5;241m1\u001b[39m)\n",
      "\u001b[0;31mNameError\u001b[0m: name 'gdf' is not defined"
     ]
    }
   ],
   "source": [
    "gdf['geometry']= gdf.apply(lambda row: Point(row['longitude'], row['latitude']), axis= 1)"
   ]
  },
  {
   "cell_type": "code",
   "execution_count": null,
   "id": "ded0e11d-4400-48eb-8fbe-ad4a3f2f11cf",
   "metadata": {},
   "outputs": [],
   "source": [
    "world= gpd.read_file(gpd.datasets.get_path('naturalearth_lowres'))\n",
    "ax= world.plot(figsize= (10, 6))\n",
    "gdf.plot(ax= ax, color= 'red', markersize= 5)\n",
    "plt.show()"
   ]
  },
  {
   "cell_type": "markdown",
   "id": "42eab460-9a8a-4474-bcc7-fb7290cb30f6",
   "metadata": {},
   "source": [
    "# Spatial Join"
   ]
  },
  {
   "cell_type": "code",
   "execution_count": null,
   "id": "c7f9b51b-84f4-4c46-8c06-3bd853dff3b2",
   "metadata": {},
   "outputs": [],
   "source": [
    "points= gpd.read_file('path_to_points.shp')\n",
    "polygons= gpd.read_file('path_to_points.shp')"
   ]
  },
  {
   "cell_type": "code",
   "execution_count": null,
   "id": "ad7cf1a8-4835-4a80-83df-d9f23114eeaf",
   "metadata": {},
   "outputs": [],
   "source": [
    "# Perfomring join\n",
    "points_within_polygons= gpd.sjoin(pionts, polygones, how= 'inner', op= 'within')"
   ]
  },
  {
   "cell_type": "code",
   "execution_count": null,
   "id": "01bfdf72-0ec6-42d0-934d-3e176872894a",
   "metadata": {},
   "outputs": [],
   "source": [
    "ax= polygons.plot(color= 'lightgrey', edgecolors= 'black')\n",
    "points_within_polygons.plot(ax= ax, color= 'red', markersize= 5)\n",
    "plt.show()"
   ]
  },
  {
   "cell_type": "code",
   "execution_count": null,
   "id": "3f98ffad-a25c-4539-9bb1-d06dd84730a6",
   "metadata": {},
   "outputs": [],
   "source": [
    "# Rought outline of code\n",
    "import geopandas as gpd\n",
    "from shapely.geometry import Point"
   ]
  },
  {
   "cell_type": "code",
   "execution_count": null,
   "id": "cb7599e4-2b47-4c1d-b2f8-b04ad07da6ae",
   "metadata": {},
   "outputs": [],
   "source": [
    "patent_file_path= None\n",
    "patent= gpd.read_file(patent_file_path)\n",
    "\n",
    "university_file_path= None\n",
    "university= gpd.read_file(university_file_path)"
   ]
  },
  {
   "cell_type": "code",
   "execution_count": null,
   "id": "f4153a2d-bb4a-4b6a-8de5-e2ec9e6d9203",
   "metadata": {},
   "outputs": [],
   "source": [
    "patent['geometry']= patent.apply(lambda row: Point(row['longitude'], row['latitude']), axis= 1)\n",
    "\n",
    "university['geometry']= university.apply(lambda row: Point(row['longitude'], row['latitude']), axis= 1)"
   ]
  },
  {
   "cell_type": "code",
   "execution_count": null,
   "id": "f05df094-ca94-434c-80e7-2ddebcd07fa4",
   "metadata": {},
   "outputs": [],
   "source": [
    "# Spatial join\n",
    "joined= gpd.sjoin(patent_data, university_data, how= 'inner', op= 'intersects')"
   ]
  },
  {
   "cell_type": "code",
   "execution_count": null,
   "id": "bf4bbab7-bcd9-4bdc-b952-842923ef4090",
   "metadata": {},
   "outputs": [],
   "source": [
    "# Analysis\n",
    "analysis= joined.groupby('university_id').agg({'expenditure': 'sum', 'patent_id': 'count'}).reset_index()\n",
    "\n",
    "analysis.plot(kind= 'scatter', x= 'expenditure', y= 'patent_id')\n",
    "plt.xlabel('University Expenditure')\n",
    "plt.ylabel('Number of Patents Filed')\n",
    "plt.title('Relationship between University Expenditure and Patents Filed')\n",
    "plt.show()"
   ]
  },
  {
   "cell_type": "code",
   "execution_count": null,
   "id": "9040c3c6-5a9a-4a39-b7b7-73e2e70226d1",
   "metadata": {},
   "outputs": [],
   "source": []
  }
 ],
 "metadata": {
  "kernelspec": {
   "display_name": "econark",
   "language": "python",
   "name": "econark"
  },
  "language_info": {
   "codemirror_mode": {
    "name": "ipython",
    "version": 3
   },
   "file_extension": ".py",
   "mimetype": "text/x-python",
   "name": "python",
   "nbconvert_exporter": "python",
   "pygments_lexer": "ipython3",
   "version": "3.11.8"
  }
 },
 "nbformat": 4,
 "nbformat_minor": 5
}
